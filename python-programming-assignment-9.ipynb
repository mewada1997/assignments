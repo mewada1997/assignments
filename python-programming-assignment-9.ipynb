{
 "cells": [
  {
   "cell_type": "code",
   "execution_count": 15,
   "id": "e35103de",
   "metadata": {},
   "outputs": [
    {
     "data": {
      "text/plain": [
       "'175'"
      ]
     },
     "execution_count": 15,
     "metadata": {},
     "output_type": "execute_result"
    }
   ],
   "source": [
    "#Q1\n",
    "def disarium(a):\n",
    "    sum= 0\n",
    "    a= str(a)\n",
    "    for i,j in enumerate(a):\n",
    "        i=int(i+1)\n",
    "        j=int(j)\n",
    "        sum = sum + j**i\n",
    "    if sum == int(a):\n",
    "        #print(\"no is diasrium\",a)\n",
    "        return a\n",
    "    else:\n",
    "        pass\n",
    "        #print(\"not disarium\")\n",
    "disarium(175)\n",
    "    "
   ]
  },
  {
   "cell_type": "code",
   "execution_count": 16,
   "id": "3f308011",
   "metadata": {},
   "outputs": [
    {
     "data": {
      "text/plain": [
       "[1, 2, 3, 4, 5, 6, 7, 8, 9, 89]"
      ]
     },
     "execution_count": 16,
     "metadata": {},
     "output_type": "execute_result"
    }
   ],
   "source": [
    "#q2\n",
    "def dis_num():\n",
    "    l=[]\n",
    "    for i in range(1,100):\n",
    "        if disarium(i):\n",
    "            l.append(i)\n",
    "    return l\n",
    "dis_num()\n",
    "        \n",
    "        "
   ]
  },
  {
   "cell_type": "code",
   "execution_count": null,
   "id": "ad2ef0c3",
   "metadata": {},
   "outputs": [],
   "source": []
  },
  {
   "cell_type": "code",
   "execution_count": 31,
   "id": "651f866a",
   "metadata": {},
   "outputs": [
    {
     "data": {
      "text/plain": [
       "1"
      ]
     },
     "execution_count": 31,
     "metadata": {},
     "output_type": "execute_result"
    }
   ],
   "source": [
    "#Q3\n",
    "def happynum(a):\n",
    "    flag=True\n",
    "    b=a\n",
    "    \n",
    "    while flag: \n",
    "        sum = 0\n",
    "        for i in str(a):\n",
    "            i= int(i)\n",
    "            sum = sum +i**2\n",
    "        if len(str(sum))==1:\n",
    "            if sum ==1:\n",
    "                #print('happy no')\n",
    "                return b \n",
    "                break\n",
    "            else:\n",
    "                #print(\"not happy\")\n",
    "                break\n",
    "        a= sum\n",
    "happynum(1)           \n",
    "            "
   ]
  },
  {
   "cell_type": "code",
   "execution_count": 32,
   "id": "ffc663fe",
   "metadata": {},
   "outputs": [
    {
     "data": {
      "text/plain": [
       "[1, 7, 10, 13, 19, 23, 28, 31, 32, 44, 49, 68, 70, 79, 82, 86, 91, 94, 97, 100]"
      ]
     },
     "execution_count": 32,
     "metadata": {},
     "output_type": "execute_result"
    }
   ],
   "source": [
    "#Q4\n",
    "def happy_range():\n",
    "    l=[]\n",
    "    for i in range(1,101):\n",
    "        if happynum(i):\n",
    "            l.append(i)\n",
    "        else:\n",
    "            pass\n",
    "    return l\n",
    "happy_range()"
   ]
  },
  {
   "cell_type": "code",
   "execution_count": 34,
   "id": "1766e585",
   "metadata": {},
   "outputs": [
    {
     "name": "stdout",
     "output_type": "stream",
     "text": [
      "156 is a harshad no\n"
     ]
    }
   ],
   "source": [
    "#Q5\n",
    "def harshadnum(a):\n",
    "    sum =0\n",
    "    for i in str(a):\n",
    "        i= int(i)\n",
    "        sum= sum+i\n",
    "    if a%sum == 0:\n",
    "        print(a,\"is a harshad no\")\n",
    "    else:\n",
    "        print(a,\"is not an harshad no\")\n",
    "harshadnum(156)"
   ]
  },
  {
   "cell_type": "code",
   "execution_count": 2,
   "id": "ac10b2f4",
   "metadata": {},
   "outputs": [
    {
     "data": {
      "text/plain": [
       "[2, 6, 12, 20, 30, 42, 56, 72, 90]"
      ]
     },
     "execution_count": 2,
     "metadata": {},
     "output_type": "execute_result"
    }
   ],
   "source": [
    "#Q6\n",
    "def check_pronic(a):\n",
    "    for i in range(1,a):\n",
    "        if a%i == 0:\n",
    "            b=i\n",
    "            c=a/i\n",
    "            if c-b ==1:\n",
    "                #print(a, \"is a pronic no\")\n",
    "                return a\n",
    "            else :\n",
    "                pass\n",
    "def pronic_range():\n",
    "    l=[]\n",
    "    for i in range(1,101):\n",
    "        if check_pronic(i):\n",
    "            l.append(i)\n",
    "    return l\n",
    "pronic_range()   "
   ]
  },
  {
   "cell_type": "code",
   "execution_count": null,
   "id": "f42daf2f",
   "metadata": {},
   "outputs": [],
   "source": []
  },
  {
   "cell_type": "code",
   "execution_count": null,
   "id": "47a45367",
   "metadata": {},
   "outputs": [],
   "source": []
  }
 ],
 "metadata": {
  "kernelspec": {
   "display_name": "Python 3 (ipykernel)",
   "language": "python",
   "name": "python3"
  },
  "language_info": {
   "codemirror_mode": {
    "name": "ipython",
    "version": 3
   },
   "file_extension": ".py",
   "mimetype": "text/x-python",
   "name": "python",
   "nbconvert_exporter": "python",
   "pygments_lexer": "ipython3",
   "version": "3.9.13"
  }
 },
 "nbformat": 4,
 "nbformat_minor": 5
}
