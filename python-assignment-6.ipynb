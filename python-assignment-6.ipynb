{
 "cells": [
  {
   "cell_type": "markdown",
   "id": "92add392",
   "metadata": {},
   "source": [
    "Q1.  \n",
    "escape character is used to insert character that are not allowed in string, it allows to escape the next character  \n",
    "syntax: \\escape character  \n",
    "eg:  \n",
    "let say i have to print('good' morning') but an error will be encountered syntax wise  \n",
    "instead of this we can use escape characters to print('good\\' morning')   \n",
    "this will not throw an error and will print good' morning as output   \n",
    "it is escaping the ' in the string and giving final output\n",
    "\n"
   ]
  },
  {
   "cell_type": "markdown",
   "id": "f2839bd2",
   "metadata": {},
   "source": [
    "Q2.  \n",
    "\\n - used to print a new line or start from new line  \n",
    "\\t is used to create a tab in between string "
   ]
  },
  {
   "cell_type": "markdown",
   "id": "647141d5",
   "metadata": {},
   "source": [
    "Q3.  \n",
    "We can use escape character \\\\\\ to include backslash in a string"
   ]
  },
  {
   "cell_type": "markdown",
   "id": "8e4fb600",
   "metadata": {},
   "source": [
    "Q4.  \n",
    "Strings can be written under single, double and triple quotes  \n",
    "string  \"Howl's Moving castle \" is written under double quotes i.e it will read string literals between double quotes and single quotes present in between double quotes will be considered as a character or string    \n",
    "Hence, no problrm will occure"
   ]
  },
  {
   "cell_type": "markdown",
   "id": "a711f7c1",
   "metadata": {},
   "source": [
    "Q5.  \n",
    "if we dont want to use \\n to print newlines of string , we can enclosed the string in triple quotes and write it the way we want  \n",
    "for eg:  \n",
    "'''  \n",
    "hello\" brother,  \n",
    "my name is ram  \n",
    "i am 23 yr old  \n",
    "'''  "
   ]
  },
  {
   "cell_type": "markdown",
   "id": "c2fa127b",
   "metadata": {},
   "source": [
    "Q6.  \n",
    "values for the following expression are :  \n",
    "'hello,world!'[1] = 'e'  \n",
    "'hello,world!'[0:5] = 'hello'  \n",
    "'hello,world!'[:5] = 'hello'  \n",
    "'hello,world!'[3:] = 'lo,world!'  \n"
   ]
  },
  {
   "cell_type": "code",
   "execution_count": 27,
   "id": "4a1153e5",
   "metadata": {},
   "outputs": [
    {
     "name": "stdout",
     "output_type": "stream",
     "text": [
      "HELLO\n",
      "True\n",
      "hello\n"
     ]
    }
   ],
   "source": [
    "#Q7.\n",
    "print('Hello'.upper())\n",
    "print('Hello'.upper().isupper())\n",
    "print('Hello'.upper().lower())"
   ]
  },
  {
   "cell_type": "code",
   "execution_count": 50,
   "id": "ca837a6f",
   "metadata": {},
   "outputs": [
    {
     "name": "stdout",
     "output_type": "stream",
     "text": [
      "['Remember,', 'remember,', 'the', 'fith', 'of', 'july.']\n",
      "there-can-only-one.\n"
     ]
    }
   ],
   "source": [
    "#Q8.\n",
    "print('Remember, remember, the fith of july.'.split())\n",
    "print('-'.join('there can only one.'.split()))"
   ]
  },
  {
   "cell_type": "code",
   "execution_count": 1,
   "id": "34d053c0",
   "metadata": {},
   "outputs": [
    {
     "name": "stdout",
     "output_type": "stream",
     "text": [
      "####ram\n",
      "ram####\n",
      "##ram##\n"
     ]
    }
   ],
   "source": [
    "#Q9\n",
    "#Right justified method gives a justified string towards right with given minimum width and fillchar \n",
    "# syntax : string.rjust(width,fillchar)\n",
    "a= \"ram\"\n",
    "width=7\n",
    "fillchar = \"#\"\n",
    "print(a.rjust(width,fillchar))\n",
    "\n",
    "#left justified method gives a justified string towards left with given minimum width and fillchar \n",
    "# syntax : string.rleft(width,fillchar)\n",
    "print(a.ljust(width,fillchar))\n",
    "\n",
    "#centre method is used to align string to the centre \n",
    "print(a.center(width,fillchar))"
   ]
  },
  {
   "cell_type": "markdown",
   "id": "d45ecf86",
   "metadata": {},
   "source": [
    "#Q10.\n",
    "Best way to remove whitespace character from a string is by using str.replace(\" \",\"\") function \n"
   ]
  },
  {
   "cell_type": "code",
   "execution_count": null,
   "id": "909e9e99",
   "metadata": {},
   "outputs": [],
   "source": []
  },
  {
   "cell_type": "code",
   "execution_count": null,
   "id": "42eebddd",
   "metadata": {},
   "outputs": [],
   "source": []
  },
  {
   "cell_type": "code",
   "execution_count": null,
   "id": "dc254af6",
   "metadata": {},
   "outputs": [],
   "source": []
  },
  {
   "cell_type": "code",
   "execution_count": null,
   "id": "81d332be",
   "metadata": {},
   "outputs": [],
   "source": []
  }
 ],
 "metadata": {
  "kernelspec": {
   "display_name": "Python 3 (ipykernel)",
   "language": "python",
   "name": "python3"
  },
  "language_info": {
   "codemirror_mode": {
    "name": "ipython",
    "version": 3
   },
   "file_extension": ".py",
   "mimetype": "text/x-python",
   "name": "python",
   "nbconvert_exporter": "python",
   "pygments_lexer": "ipython3",
   "version": "3.9.13"
  }
 },
 "nbformat": 4,
 "nbformat_minor": 5
}
