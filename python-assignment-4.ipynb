{
 "cells": [
  {
   "cell_type": "markdown",
   "id": "c3594d0f",
   "metadata": {},
   "source": [
    "Q1.  \n",
    "[] is an empty list"
   ]
  },
  {
   "cell_type": "code",
   "execution_count": 10,
   "id": "d01893ff",
   "metadata": {},
   "outputs": [
    {
     "name": "stdout",
     "output_type": "stream",
     "text": [
      "[2, 4, 'hello', 8]\n",
      "[2, 4, 'hello', 'hello', 8]\n"
     ]
    }
   ],
   "source": [
    "#Q2. \n",
    "spam = [2,4,6,8]\n",
    "#we can replace third value by using indexing option\n",
    "spam[2]= \"hello\"\n",
    "print(spam)\n",
    "#we can add value at third position using insert option\n",
    "spam.insert(2,\"hello\")\n",
    "print(spam)\n"
   ]
  },
  {
   "cell_type": "code",
   "execution_count": 16,
   "id": "16fb4d16",
   "metadata": {},
   "outputs": [
    {
     "data": {
      "text/plain": [
       "'d'"
      ]
     },
     "execution_count": 16,
     "metadata": {},
     "output_type": "execute_result"
    }
   ],
   "source": [
    "#Q3.  \n",
    "#string multiplication operation will be preformed and output will typecasted in to integer \n",
    "spam= [\"a\",\"b\",\"c\",\"d\"]\n",
    "spam[int(int('3'*2)/11)]"
   ]
  },
  {
   "cell_type": "code",
   "execution_count": 19,
   "id": "aac297fb",
   "metadata": {},
   "outputs": [
    {
     "data": {
      "text/plain": [
       "'d'"
      ]
     },
     "execution_count": 19,
     "metadata": {},
     "output_type": "execute_result"
    }
   ],
   "source": [
    "#Q4.\n",
    "#it will perform indexing operation from end to start or R.H.S to L.H.S\n",
    "spam[-1]"
   ]
  },
  {
   "cell_type": "code",
   "execution_count": 21,
   "id": "99a46fa0",
   "metadata": {},
   "outputs": [
    {
     "data": {
      "text/plain": [
       "['a', 'b']"
      ]
     },
     "execution_count": 21,
     "metadata": {},
     "output_type": "execute_result"
    }
   ],
   "source": [
    "#Q5.\n",
    "#[inclusive : exclusive] during slicing operation \n",
    "#[::] if nothing mentioned in inclusive part then it will take min index i.e 0 and in exclusive part it will take length of list\n",
    "#[:2] it will slice from 0  to 1 index position excluding 2nd position\n",
    "spam[:2]"
   ]
  },
  {
   "cell_type": "code",
   "execution_count": 23,
   "id": "97a1fd5d",
   "metadata": {},
   "outputs": [
    {
     "data": {
      "text/plain": [
       "1"
      ]
     },
     "execution_count": 23,
     "metadata": {},
     "output_type": "execute_result"
    }
   ],
   "source": [
    "#Q6.\n",
    "bacon=[3.14,\"cat\",11,\"cat\", True]\n",
    "# index function return the index value of a given data or value in list\n",
    "bacon.index(\"cat\")"
   ]
  },
  {
   "cell_type": "code",
   "execution_count": 25,
   "id": "6d6c61a1",
   "metadata": {},
   "outputs": [
    {
     "name": "stdout",
     "output_type": "stream",
     "text": [
      "[3.14, 'cat', 11, 'cat', True, 99, 99]\n"
     ]
    }
   ],
   "source": [
    "#Q7.\n",
    "#append function adds value at the end of the list\n",
    "bacon.append(99)\n",
    "print(bacon)"
   ]
  },
  {
   "cell_type": "code",
   "execution_count": 26,
   "id": "3bf46da0",
   "metadata": {},
   "outputs": [],
   "source": [
    "#Q8.\n",
    "#remove function remove the value from the list in first occurence \n",
    "bacon.remove(\"cat\")"
   ]
  },
  {
   "cell_type": "code",
   "execution_count": 27,
   "id": "81a96e03",
   "metadata": {},
   "outputs": [
    {
     "name": "stdout",
     "output_type": "stream",
     "text": [
      "[3.14, 11, 'cat', True, 99, 99]\n"
     ]
    }
   ],
   "source": [
    "print(bacon)"
   ]
  },
  {
   "cell_type": "code",
   "execution_count": 36,
   "id": "7b45467c",
   "metadata": {},
   "outputs": [
    {
     "name": "stdout",
     "output_type": "stream",
     "text": [
      "[1, 2, 3, 4, 5, 6]\n",
      "[1, 2, 3, 4, 5, 6, 1, 2, 3, 4, 5, 6]\n"
     ]
    }
   ],
   "source": [
    "#Q9.\n",
    "# + is an list concatenation operator \n",
    "l=[1,2,3] + [4,5,6]\n",
    "print(l)\n",
    "# * is an list replication operator\n",
    "l=l*2\n",
    "print(l)"
   ]
  },
  {
   "cell_type": "markdown",
   "id": "0dc71b88",
   "metadata": {},
   "source": [
    "Q10.  \n",
    "append() add value or data at the end of list and insert() add value at a given index position "
   ]
  },
  {
   "cell_type": "code",
   "execution_count": 39,
   "id": "9e428bcf",
   "metadata": {},
   "outputs": [
    {
     "name": "stdout",
     "output_type": "stream",
     "text": [
      "[1, 4]\n",
      "['shyam']\n"
     ]
    }
   ],
   "source": [
    "#Q11.\n",
    "# method to remove items from list are pop() and remove()\n",
    "#pop() is used to remove item from a index position\n",
    "list=[1,23,4]\n",
    "list.pop(1)\n",
    "print(list)\n",
    "\n",
    "#remove() is used to remove item from list directly\n",
    "list1=[\"ram\",\"shyam\"]\n",
    "list1.remove(\"ram\")\n",
    "print(list1)\n"
   ]
  },
  {
   "cell_type": "markdown",
   "id": "97e17e95",
   "metadata": {},
   "source": [
    "Q12.  \n",
    "List values and string values are identical in terms of indexing operation ,slicing opeartion , concatenation and repition "
   ]
  },
  {
   "cell_type": "markdown",
   "id": "1179f0cd",
   "metadata": {},
   "source": [
    "Q13.  \n",
    "List can contain different type of data in it which can be modified using various function like indexing, append,remove,pop,etc..  wheras tuple can also contain different type of data but it can not  be modified"
   ]
  },
  {
   "cell_type": "code",
   "execution_count": 46,
   "id": "204977bb",
   "metadata": {},
   "outputs": [
    {
     "name": "stdout",
     "output_type": "stream",
     "text": [
      "(42,)\n",
      "<class 'tuple'>\n",
      "42\n",
      "<class 'int'>\n"
     ]
    }
   ],
   "source": [
    "#Q14.\n",
    "#we can type tuple with a single value with (value,), \n",
    "t=(42,)\n",
    "print(t)\n",
    "print(type(t))\n",
    "#if we dont put comma then it will be considered as an integer\n",
    "t=(42)\n",
    "print(t)\n",
    "print(type(t))\n"
   ]
  },
  {
   "cell_type": "code",
   "execution_count": 1,
   "id": "ca2f0140",
   "metadata": {},
   "outputs": [
    {
     "name": "stdout",
     "output_type": "stream",
     "text": [
      "(1, 2, 3)\n",
      "[4, 5, 6]\n"
     ]
    }
   ],
   "source": [
    "#Q15.\n",
    "#list values in tuple form\n",
    "l= [1,2,3]\n",
    "l =tuple(l)\n",
    "print(l)\n",
    "# tuple values in list form\n",
    "t= (4,5,6)\n",
    "t= list(t)\n",
    "print(t)"
   ]
  },
  {
   "cell_type": "code",
   "execution_count": 3,
   "id": "c6c518c4",
   "metadata": {},
   "outputs": [],
   "source": [
    "#Q16."
   ]
  },
  {
   "cell_type": "markdown",
   "id": "963bef24",
   "metadata": {},
   "source": [
    "Q17.  \n",
    "The difference between copy.copy() and copy.deepcopy() is the different function call from copy module "
   ]
  },
  {
   "cell_type": "code",
   "execution_count": null,
   "id": "c79a3505",
   "metadata": {},
   "outputs": [],
   "source": []
  }
 ],
 "metadata": {
  "kernelspec": {
   "display_name": "Python 3 (ipykernel)",
   "language": "python",
   "name": "python3"
  },
  "language_info": {
   "codemirror_mode": {
    "name": "ipython",
    "version": 3
   },
   "file_extension": ".py",
   "mimetype": "text/x-python",
   "name": "python",
   "nbconvert_exporter": "python",
   "pygments_lexer": "ipython3",
   "version": "3.9.13"
  }
 },
 "nbformat": 4,
 "nbformat_minor": 5
}
