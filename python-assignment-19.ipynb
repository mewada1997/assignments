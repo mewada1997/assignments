{
 "cells": [
  {
   "cell_type": "code",
   "execution_count": 24,
   "id": "7fa3e569",
   "metadata": {},
   "outputs": [
    {
     "name": "stdout",
     "output_type": "stream",
     "text": [
      "<__main__.Things object at 0x0000022D302A7880>\n",
      "<__main__.Things object at 0x0000022D302A7730>\n"
     ]
    }
   ],
   "source": [
    "#Q1. \n",
    "class Things :\n",
    "    pass\n",
    "example=Things()\n",
    "print(example)\n",
    "print(Things())"
   ]
  },
  {
   "cell_type": "code",
   "execution_count": 2,
   "id": "28603cfd",
   "metadata": {},
   "outputs": [
    {
     "name": "stdout",
     "output_type": "stream",
     "text": [
      "abc\n"
     ]
    }
   ],
   "source": [
    "#Q2.\n",
    "class Things2 :\n",
    "    letter=\"abc\"\n",
    "print(Things2.letter)"
   ]
  },
  {
   "cell_type": "code",
   "execution_count": 3,
   "id": "21833a82",
   "metadata": {},
   "outputs": [
    {
     "data": {
      "text/plain": [
       "'xyz'"
      ]
     },
     "execution_count": 3,
     "metadata": {},
     "output_type": "execute_result"
    }
   ],
   "source": [
    "#Q3.\n",
    "class Things3:\n",
    "    def __init__(self,letter):\n",
    "        self.letter=letter\n",
    "example=Things3(\"xyz\")    \n",
    "example.letter"
   ]
  },
  {
   "cell_type": "code",
   "execution_count": 4,
   "id": "c9546446",
   "metadata": {},
   "outputs": [],
   "source": [
    "#Q4.\n",
    "class element:\n",
    "    def __init__(self,name,symbol,number):\n",
    "        self.name=name\n",
    "        self.symbol=symbol\n",
    "        self.number=number\n",
    "a=element(\"hydrogen\",\"h\",1)"
   ]
  },
  {
   "cell_type": "code",
   "execution_count": 5,
   "id": "1a71547b",
   "metadata": {},
   "outputs": [],
   "source": [
    "#Q5.\n",
    "dict1={\"name\":\"hydrogen\",\"symbol\":\"h\",\"number\":1}\n",
    "d=list(dict1.values())\n",
    "hydrogen = element(d[0],d[1],d[2])"
   ]
  },
  {
   "cell_type": "code",
   "execution_count": 6,
   "id": "d640bc5f",
   "metadata": {},
   "outputs": [
    {
     "name": "stdout",
     "output_type": "stream",
     "text": [
      "name =hydrogen,symbol = h & number=1\n"
     ]
    }
   ],
   "source": [
    "#Q6.\n",
    "class element:\n",
    "    def __init__(self,name,symbol,number):\n",
    "        self.name=name\n",
    "        self.symbol=symbol\n",
    "        self.number=number\n",
    "    \n",
    "    def dump(self):\n",
    "        print(f\"name ={self.name},symbol = {self.symbol} & number={self.number}\")\n",
    "        \n",
    "hydrogen=element(\"hydrogen\",\"h\",\"1\")\n",
    "\n",
    "hydrogen.dump()\n"
   ]
  },
  {
   "cell_type": "code",
   "execution_count": 7,
   "id": "e303042b",
   "metadata": {},
   "outputs": [
    {
     "name": "stdout",
     "output_type": "stream",
     "text": [
      "<__main__.element object at 0x0000022D30302DF0>\n",
      "name =hydrogen,symbol = h & number=1\n"
     ]
    }
   ],
   "source": [
    "#Q7\n",
    "print(hydrogen)\n",
    "class element :\n",
    "    def __init__(self,name,symbol,number):\n",
    "            self.name=name\n",
    "            self.symbol=symbol\n",
    "            self.number=number\n",
    "            \n",
    "    def __str__(self):\n",
    "        return(f\"name ={self.name},symbol = {self.symbol} & number={self.number}\")\n",
    "hydrogen=element(\"hydrogen\",\"h\",\"1\")\n",
    "print(hydrogen)"
   ]
  },
  {
   "cell_type": "code",
   "execution_count": 12,
   "id": "699d652c",
   "metadata": {},
   "outputs": [
    {
     "name": "stdout",
     "output_type": "stream",
     "text": [
      "name =hydrogen,symbol = h & number=1\n"
     ]
    }
   ],
   "source": [
    "#Q8\n",
    "class element :\n",
    "    def __init__(self,name,symbol,number):\n",
    "            self.__name=name\n",
    "            self.__symbol=symbol\n",
    "            self.__number=number\n",
    "            \n",
    "    def __str__(self):\n",
    "        return(f\"name ={self.__name},symbol = {self.__symbol} & number={self.__number}\")\n",
    "        \n",
    "hydrogen=element(\"hydrogen\",\"h\",\"1\")\n",
    "print(hydrogen)"
   ]
  },
  {
   "cell_type": "code",
   "execution_count": 44,
   "id": "07ce6c93",
   "metadata": {},
   "outputs": [
    {
     "name": "stdout",
     "output_type": "stream",
     "text": [
      "berries\n",
      "cloves\n",
      "campers\n"
     ]
    }
   ],
   "source": [
    "#Q9.\n",
    "class bear:\n",
    "    @property\n",
    "    def eats(self):\n",
    "        return\"berries\"\n",
    "class rabbit:\n",
    "    @property\n",
    "    def eats(self):\n",
    "        return\"cloves\"   \n",
    "class octophore:\n",
    "    @property\n",
    "    def eats(self):\n",
    "        return\"campers\"\n",
    "a=bear()\n",
    "b=rabbit()\n",
    "c=octophore()\n",
    "print(a.eats)\n",
    "print(b.eats)\n",
    "print(c.eats)"
   ]
  },
  {
   "cell_type": "code",
   "execution_count": 27,
   "id": "34694fd8",
   "metadata": {},
   "outputs": [
    {
     "data": {
      "text/plain": [
       "'disintegrate crush string'"
      ]
     },
     "execution_count": 27,
     "metadata": {},
     "output_type": "execute_result"
    }
   ],
   "source": [
    "#Q10.\n",
    "class laser:\n",
    "    def does(self):\n",
    "        return \"disintegrate\"\n",
    "class claw:\n",
    "    def does(self):\n",
    "        return \"crush\"\n",
    "class smartphone:\n",
    "    def does(self):\n",
    "        return \"string\"\n",
    "class robot:\n",
    "    def __init__(self):\n",
    "        self.laser=laser()\n",
    "        self.claw=claw()\n",
    "        self.smartphone=smartphone()\n",
    "    def does(self):\n",
    "        return (f\"{self.laser.does()} {self.claw.does()} {self.smartphone.does()}\")\n",
    "a= robot()\n",
    "a.does()\n",
    "        \n",
    "    "
   ]
  },
  {
   "cell_type": "code",
   "execution_count": null,
   "id": "e03f2c6d",
   "metadata": {},
   "outputs": [],
   "source": []
  },
  {
   "cell_type": "code",
   "execution_count": null,
   "id": "18ee3b49",
   "metadata": {},
   "outputs": [],
   "source": []
  },
  {
   "cell_type": "code",
   "execution_count": null,
   "id": "2305ab2d",
   "metadata": {},
   "outputs": [],
   "source": []
  },
  {
   "cell_type": "code",
   "execution_count": null,
   "id": "b79078bf",
   "metadata": {},
   "outputs": [],
   "source": []
  }
 ],
 "metadata": {
  "kernelspec": {
   "display_name": "Python 3 (ipykernel)",
   "language": "python",
   "name": "python3"
  },
  "language_info": {
   "codemirror_mode": {
    "name": "ipython",
    "version": 3
   },
   "file_extension": ".py",
   "mimetype": "text/x-python",
   "name": "python",
   "nbconvert_exporter": "python",
   "pygments_lexer": "ipython3",
   "version": "3.9.13"
  }
 },
 "nbformat": 4,
 "nbformat_minor": 5
}
