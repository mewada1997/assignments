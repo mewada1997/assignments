{
 "cells": [
  {
   "cell_type": "code",
   "execution_count": 2,
   "id": "15b2f9d0",
   "metadata": {},
   "outputs": [],
   "source": [
    "#Q1\n",
    "import datetime\n",
    "today=str(datetime.date.today())\n",
    "with open(\"today.txt\",\"w\") as f:\n",
    "    f.write(today)\n",
    "    \n"
   ]
  },
  {
   "cell_type": "code",
   "execution_count": 3,
   "id": "9fa5c701",
   "metadata": {},
   "outputs": [
    {
     "name": "stdout",
     "output_type": "stream",
     "text": [
      "2023-01-02\n"
     ]
    }
   ],
   "source": [
    "#Q2\n",
    "with open(\"today.txt\",\"r\") as f:\n",
    "    today_string=f.read()\n",
    "print(today_string)\n"
   ]
  },
  {
   "cell_type": "code",
   "execution_count": 24,
   "id": "ae1f7935",
   "metadata": {},
   "outputs": [
    {
     "name": "stdout",
     "output_type": "stream",
     "text": [
      "<class 'str'>\n",
      "2023-01-02 00:00:00\n",
      "<class 'datetime.datetime'>\n"
     ]
    }
   ],
   "source": [
    "#Q3\n",
    "print(type(today_string))\n",
    "parsed_date= datetime.datetime.strptime(today_string,\"%Y-%m-%d\")\n",
    "print(parsed_date)\n",
    "print(type(parsed_date))\n",
    "\n",
    "\n"
   ]
  },
  {
   "cell_type": "code",
   "execution_count": 4,
   "id": "1ab1fac5",
   "metadata": {},
   "outputs": [
    {
     "data": {
      "text/plain": [
       "['.ipynb_checkpoints',\n",
       " 'books.csv',\n",
       " 'books.db',\n",
       " 'python-assignment-1.ipynb',\n",
       " 'python-assignment-10.ipynb',\n",
       " 'python-assignment-11.ipynb',\n",
       " 'python-assignment-12.ipynb',\n",
       " 'python-assignment-16.ipynb',\n",
       " 'python-assignment-17.ipynb',\n",
       " 'python-assignment-18.ipynb',\n",
       " 'python-assignment-19.ipynb',\n",
       " 'python-assignment-2.ipynb',\n",
       " 'python-assignment-20.ipynb',\n",
       " 'python-assignment-3.ipynb',\n",
       " 'python-assignment-4.ipynb',\n",
       " 'python-assignment-5.ipynb',\n",
       " 'python-assignment-6.ipynb',\n",
       " 'python-assignment-7.ipynb',\n",
       " 'python-assignment-8.ipynb',\n",
       " 'python-assignment-9.ipynb',\n",
       " 'test.txt',\n",
       " 'today.txt',\n",
       " 'Untitled.ipynb',\n",
       " 'zoo.py',\n",
       " '__pycache__']"
      ]
     },
     "execution_count": 4,
     "metadata": {},
     "output_type": "execute_result"
    }
   ],
   "source": [
    "#Q4\n",
    "import os\n",
    "os.listdir()"
   ]
  },
  {
   "cell_type": "code",
   "execution_count": 9,
   "id": "f4f391f1",
   "metadata": {},
   "outputs": [
    {
     "data": {
      "text/plain": [
       "['$Recycle.Bin',\n",
       " '$WinREAgent',\n",
       " 'Documents and Settings',\n",
       " 'DumpStack.log.tmp',\n",
       " 'hiberfil.sys',\n",
       " 'Intel',\n",
       " 'MSOCache',\n",
       " 'netlux',\n",
       " 'NetluxKeyBackup.txt',\n",
       " 'NxSmartFileBkup_v2',\n",
       " 'pagefile.sys',\n",
       " 'PerfLogs',\n",
       " 'Program Files',\n",
       " 'Program Files (x86)',\n",
       " 'ProgramData',\n",
       " 'Recovery',\n",
       " 'swapfile.sys',\n",
       " 'System Volume Information',\n",
       " 'Users',\n",
       " 'Windows']"
      ]
     },
     "execution_count": 9,
     "metadata": {},
     "output_type": "execute_result"
    }
   ],
   "source": [
    "#Q5\n",
    "os.listdir(\"C:\\\\\")"
   ]
  },
  {
   "cell_type": "code",
   "execution_count": null,
   "id": "7d209676",
   "metadata": {},
   "outputs": [],
   "source": [
    "#Q6\n",
    "import multiprocessing as mp\n",
    "import time\n",
    "\n"
   ]
  },
  {
   "cell_type": "code",
   "execution_count": 4,
   "id": "d05863ef",
   "metadata": {},
   "outputs": [
    {
     "name": "stdout",
     "output_type": "stream",
     "text": [
      "1997-01-10\n"
     ]
    }
   ],
   "source": [
    "#Q7\n",
    "bday= datetime.date(1997,1,10)\n",
    "print(bday)"
   ]
  },
  {
   "cell_type": "code",
   "execution_count": 25,
   "id": "e7fde0b0",
   "metadata": {},
   "outputs": [
    {
     "name": "stdout",
     "output_type": "stream",
     "text": [
      "Friday\n"
     ]
    }
   ],
   "source": [
    "#Q8\n",
    "print(bday.strftime(\"%A\"))"
   ]
  },
  {
   "cell_type": "code",
   "execution_count": 7,
   "id": "11bcb701",
   "metadata": {},
   "outputs": [
    {
     "name": "stdout",
     "output_type": "stream",
     "text": [
      "2024-05-28\n"
     ]
    }
   ],
   "source": [
    "#Q9\n",
    "tdelta=datetime.timedelta(10000)\n",
    "a=bday +tdelta\n",
    "print(a)"
   ]
  },
  {
   "cell_type": "code",
   "execution_count": null,
   "id": "640c953f",
   "metadata": {},
   "outputs": [],
   "source": []
  }
 ],
 "metadata": {
  "kernelspec": {
   "display_name": "Python 3 (ipykernel)",
   "language": "python",
   "name": "python3"
  },
  "language_info": {
   "codemirror_mode": {
    "name": "ipython",
    "version": 3
   },
   "file_extension": ".py",
   "mimetype": "text/x-python",
   "name": "python",
   "nbconvert_exporter": "python",
   "pygments_lexer": "ipython3",
   "version": "3.9.13"
  }
 },
 "nbformat": 4,
 "nbformat_minor": 5
}
