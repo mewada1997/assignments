{
 "cells": [
  {
   "cell_type": "code",
   "execution_count": 6,
   "id": "b27e33b5",
   "metadata": {},
   "outputs": [
    {
     "name": "stdout",
     "output_type": "stream",
     "text": [
      "ineuron\n"
     ]
    }
   ],
   "source": [
    "#Q1.\n",
    "X = \"ineuron\"\n",
    "def func():\n",
    "    print(X)\n",
    "func()\n",
    "# inside a function first preference is  given to local variable and second preference is given to global variable.\n",
    "#since no local variable is present ,it will print global variable X"
   ]
  },
  {
   "cell_type": "code",
   "execution_count": 10,
   "id": "26e47e4c",
   "metadata": {},
   "outputs": [
    {
     "name": "stdout",
     "output_type": "stream",
     "text": [
      "NI!\n"
     ]
    }
   ],
   "source": [
    "#Q2.\n",
    "X= \"ineuron\"\n",
    "def func():\n",
    "    X = 'NI!'\n",
    "    print(X)\n",
    "func()\n",
    "#since a local variable is present ,first preference is given and \"NI!\" is returned as output\n"
   ]
  },
  {
   "cell_type": "code",
   "execution_count": 11,
   "id": "136bfe5f",
   "metadata": {},
   "outputs": [
    {
     "name": "stdout",
     "output_type": "stream",
     "text": [
      "NI\n",
      "ineuron\n"
     ]
    }
   ],
   "source": [
    "#Q3\n",
    "X=\"ineuron\"\n",
    "def func():\n",
    "    X=\"NI\"\n",
    "    print(X)\n",
    "func()\n",
    "print(X)\n",
    "#X=\"ineuron\" is a global variable and is available throughout the programm hence it is printed \n",
    "#wheras X=\"NI\" is a local variable inside func(),and is printed on function call only"
   ]
  },
  {
   "cell_type": "code",
   "execution_count": 14,
   "id": "924d5630",
   "metadata": {},
   "outputs": [
    {
     "name": "stdout",
     "output_type": "stream",
     "text": [
      "NI\n"
     ]
    }
   ],
   "source": [
    "#Q4\n",
    "X = \"ineuron\"\n",
    "def func():\n",
    "    global X\n",
    "    X = \"NI\"\n",
    "func()\n",
    "print(X)\n",
    "#we can declare a global variable inside a function by using keyword \"global\" whic can be accessed throughout the programme.\n",
    "#in func() no return statemeent or print statement is mentioned hennce it is not giving any out put\n",
    "# since an global variable is declared in func(), it is been accessed by print statement"
   ]
  },
  {
   "cell_type": "code",
   "execution_count": 29,
   "id": "d451f1d5",
   "metadata": {},
   "outputs": [
    {
     "name": "stdout",
     "output_type": "stream",
     "text": [
      "NI\n"
     ]
    },
    {
     "data": {
      "text/plain": [
       "'ineuron'"
      ]
     },
     "execution_count": 29,
     "metadata": {},
     "output_type": "execute_result"
    }
   ],
   "source": [
    "#Q5\n",
    "X = \"ineuron\"\n",
    "def func():\n",
    "    X= \"NI\"\n",
    "    def nested():\n",
    "        print(X)\n",
    "    nested()\n",
    "\n",
    "func()\n",
    "X\n",
    "#a function nested() is defined into another function func()\n",
    "# x=\"NI\" is the local variable inside func() \n",
    "#nested() is call and a print statement is made\n",
    "#X outside function is a global variable hence it's respective value is printed\n"
   ]
  },
  {
   "cell_type": "code",
   "execution_count": 37,
   "id": "99507d36",
   "metadata": {},
   "outputs": [
    {
     "name": "stdout",
     "output_type": "stream",
     "text": [
      "spam\n",
      "ineuron\n"
     ]
    }
   ],
   "source": [
    "#Q6\n",
    "X=\"ineuron\"\n",
    "def func():\n",
    "    X= \"NI\"\n",
    "    def nested():\n",
    "        nonlocal X\n",
    "        X=\"spam\"\n",
    "    nested()\n",
    "    print(X)\n",
    "func()\n",
    "print(X)\n",
    "#non local keyword is used to declare that the variable is not local inside a nested function and neither global outside function body \n",
    "# it will update the X variable within function "
   ]
  },
  {
   "cell_type": "code",
   "execution_count": null,
   "id": "ebe9f768",
   "metadata": {},
   "outputs": [],
   "source": []
  },
  {
   "cell_type": "code",
   "execution_count": null,
   "id": "6a6b16cf",
   "metadata": {},
   "outputs": [],
   "source": []
  }
 ],
 "metadata": {
  "kernelspec": {
   "display_name": "Python 3 (ipykernel)",
   "language": "python",
   "name": "python3"
  },
  "language_info": {
   "codemirror_mode": {
    "name": "ipython",
    "version": 3
   },
   "file_extension": ".py",
   "mimetype": "text/x-python",
   "name": "python",
   "nbconvert_exporter": "python",
   "pygments_lexer": "ipython3",
   "version": "3.9.13"
  }
 },
 "nbformat": 4,
 "nbformat_minor": 5
}
