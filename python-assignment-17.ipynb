{
 "cells": [
  {
   "cell_type": "code",
   "execution_count": 8,
   "id": "9239158a",
   "metadata": {},
   "outputs": [
    {
     "name": "stdout",
     "output_type": "stream",
     "text": [
      "5\n",
      " too low \n"
     ]
    }
   ],
   "source": [
    "#Q1.\n",
    "guess_me=int(input())\n",
    "if guess_me > 7:\n",
    "    print(\" too high\")\n",
    "elif guess_me < 7:\n",
    "    print(\" too low \")\n",
    "else :\n",
    "    print(\"just right\")\n",
    "    \n",
    "    \n"
   ]
  },
  {
   "cell_type": "code",
   "execution_count": 9,
   "id": "7d068c7b",
   "metadata": {},
   "outputs": [
    {
     "name": "stdout",
     "output_type": "stream",
     "text": [
      "too low\n"
     ]
    }
   ],
   "source": [
    "#Q2.\n",
    "guess_me=7\n",
    "start=1\n",
    "i = True\n",
    "while i:\n",
    "    if start < guess_me:\n",
    "        print(\"too low\")\n",
    "        i=False\n",
    "    if start ==guess_me:\n",
    "        print(\"found it\")\n",
    "        i=False\n",
    "    if start > guess_me:\n",
    "        print(\"oops\")\n",
    "        i=False\n",
    "    "
   ]
  },
  {
   "cell_type": "code",
   "execution_count": 10,
   "id": "38bff9b2",
   "metadata": {},
   "outputs": [
    {
     "name": "stdout",
     "output_type": "stream",
     "text": [
      "3\n",
      "2\n",
      "1\n",
      "0\n"
     ]
    }
   ],
   "source": [
    "#Q3.\n",
    "a=[3,2,1,0]\n",
    "for i in a :\n",
    "    print(i)"
   ]
  },
  {
   "cell_type": "code",
   "execution_count": 11,
   "id": "9e06c989",
   "metadata": {},
   "outputs": [
    {
     "data": {
      "text/plain": [
       "[1, 3, 5, 7, 9]"
      ]
     },
     "execution_count": 11,
     "metadata": {},
     "output_type": "execute_result"
    }
   ],
   "source": [
    "#Q4.\n",
    "[i for i in range(10) if i%2!= 0 ]"
   ]
  },
  {
   "cell_type": "code",
   "execution_count": 12,
   "id": "5831804f",
   "metadata": {},
   "outputs": [
    {
     "data": {
      "text/plain": [
       "{0: 0, 1: 1, 2: 4, 3: 9, 4: 16, 5: 25, 6: 36, 7: 49, 8: 64, 9: 81}"
      ]
     },
     "execution_count": 12,
     "metadata": {},
     "output_type": "execute_result"
    }
   ],
   "source": [
    "#Q5\n",
    "{i:i**2  for i in range(10)}"
   ]
  },
  {
   "cell_type": "code",
   "execution_count": 13,
   "id": "d8307478",
   "metadata": {},
   "outputs": [
    {
     "data": {
      "text/plain": [
       "{0, 2, 4, 6, 8}"
      ]
     },
     "execution_count": 13,
     "metadata": {},
     "output_type": "execute_result"
    }
   ],
   "source": [
    "#Q6.\n",
    "set (i for i in range(10) if i%2==0)"
   ]
  },
  {
   "cell_type": "code",
   "execution_count": 54,
   "id": "68f79316",
   "metadata": {},
   "outputs": [
    {
     "name": "stdout",
     "output_type": "stream",
     "text": [
      "got-0\n",
      "got-1\n",
      "got-2\n",
      "got-3\n",
      "got-4\n",
      "got-5\n",
      "got-6\n",
      "got-7\n",
      "got-8\n",
      "got-9\n"
     ]
    }
   ],
   "source": [
    "#Q7.\n",
    "a=(f\"got-{i}\"for i in range(10))\n",
    "for i in a:\n",
    "    print(i)\n"
   ]
  },
  {
   "cell_type": "code",
   "execution_count": 15,
   "id": "c72c9696",
   "metadata": {},
   "outputs": [
    {
     "data": {
      "text/plain": [
       "['harry', 'ron', 'hermoine']"
      ]
     },
     "execution_count": 15,
     "metadata": {},
     "output_type": "execute_result"
    }
   ],
   "source": [
    "#Q8.\n",
    "def good():\n",
    "    l=[\"harry\",\"ron\",\"hermoine\"]\n",
    "    return l\n",
    "good()\n"
   ]
  },
  {
   "cell_type": "code",
   "execution_count": 43,
   "id": "2116a48a",
   "metadata": {},
   "outputs": [
    {
     "data": {
      "text/plain": [
       "4"
      ]
     },
     "execution_count": 43,
     "metadata": {},
     "output_type": "execute_result"
    }
   ],
   "source": [
    "#Q9.\n",
    "def get_odds():\n",
    "    for i in range(10):\n",
    "        if i%2 ==0 :\n",
    "            yield i\n",
    "list(get_odds())[2]\n"
   ]
  },
  {
   "cell_type": "code",
   "execution_count": null,
   "id": "b0aad609",
   "metadata": {},
   "outputs": [],
   "source": []
  },
  {
   "cell_type": "code",
   "execution_count": 42,
   "id": "e66e72d6",
   "metadata": {},
   "outputs": [
    {
     "name": "stdout",
     "output_type": "stream",
     "text": [
      "caught an oops\n"
     ]
    }
   ],
   "source": [
    "#Q10.\n",
    "class OopsException(Exception):\n",
    "    pass\n",
    "def exception(a):\n",
    "        if a==1:\n",
    "            raise OopsException()\n",
    "\n",
    "try :\n",
    "    exception(1)\n",
    "except Exception as e:\n",
    "    print(\"caught an oops\")\n",
    "    "
   ]
  },
  {
   "cell_type": "code",
   "execution_count": 32,
   "id": "2261d346",
   "metadata": {},
   "outputs": [
    {
     "data": {
      "text/plain": [
       "{'creature of habit': 'a nun turns to monster',\n",
       " 'crewel fate': 'a haunted yarn shop'}"
      ]
     },
     "execution_count": 32,
     "metadata": {},
     "output_type": "execute_result"
    }
   ],
   "source": [
    "#Q11.\n",
    "titles=[\"creature of habit\",\"crewel fate\"] \n",
    "plots = [\"a nun turns to monster\",\"a haunted yarn shop\"]\n",
    "a=list(zip(titles,plots))\n",
    "movies={}\n",
    "for i in a:\n",
    "    movies[i[0]]=i[1]\n",
    "movies\n"
   ]
  },
  {
   "cell_type": "code",
   "execution_count": null,
   "id": "127479e4",
   "metadata": {},
   "outputs": [],
   "source": []
  },
  {
   "cell_type": "code",
   "execution_count": null,
   "id": "20932f14",
   "metadata": {},
   "outputs": [],
   "source": []
  }
 ],
 "metadata": {
  "kernelspec": {
   "display_name": "Python 3 (ipykernel)",
   "language": "python",
   "name": "python3"
  },
  "language_info": {
   "codemirror_mode": {
    "name": "ipython",
    "version": 3
   },
   "file_extension": ".py",
   "mimetype": "text/x-python",
   "name": "python",
   "nbconvert_exporter": "python",
   "pygments_lexer": "ipython3",
   "version": "3.9.13"
  }
 },
 "nbformat": 4,
 "nbformat_minor": 5
}
