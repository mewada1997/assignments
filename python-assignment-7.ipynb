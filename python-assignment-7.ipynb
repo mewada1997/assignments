{
 "cells": [
  {
   "cell_type": "markdown",
   "id": "b7f9076d",
   "metadata": {},
   "source": [
    "Q1.  \n",
    "we can generate regex objetcs by using or importing re module"
   ]
  },
  {
   "cell_type": "markdown",
   "id": "4bbfd603",
   "metadata": {},
   "source": [
    "Q2.  \n",
    "raw strings are used in regex object to get rid of special character offered by python during pattern searching in string"
   ]
  },
  {
   "cell_type": "markdown",
   "id": "671451ce",
   "metadata": {},
   "source": [
    "Q3.  \n",
    "search() method searches the pattern throughout the string and return the first occurence if present else return null value "
   ]
  },
  {
   "cell_type": "markdown",
   "id": "4a4ef480",
   "metadata": {},
   "source": [
    "Q4.  \n",
    "match() method return value only if the pattern is presented at the beginning of string else will not return an value .  \n",
    "we can fetch actual string from match and search method by using group() method  \n",
    "\n",
    "for eg :  \n",
    "re.match('pattern',string).group()"
   ]
  },
  {
   "cell_type": "markdown",
   "id": "be4662bc",
   "metadata": {},
   "source": [
    "Q5.  \n",
    "the regex r'(\\d\\d\\d)-(\\d\\d\\d-\\d\\d\\d\\d)'  \n",
    "group zero covers the full the pattern to be search or mathced i.e in this example  it contains this pattern '(\\d\\d\\d)-(\\d\\d\\d-\\d\\d\\d\\d)'  \n",
    "group 1 covers the pattern- '(\\d\\d\\d)'  \n",
    "group 2 covers the pattern- '(\\d\\d\\d-\\d\\d\\d\\d)'  \n",
    "\n",
    "\n",
    "\n"
   ]
  },
  {
   "cell_type": "markdown",
   "id": "336677e3",
   "metadata": {},
   "source": [
    "Q6.  \n",
    "we can use period i.e . and parantesis in regular expression by using backslash  \\\\. and  \\\\() as these are meta charcters , and by using backslash we can use it as a raw character in a pattern \n"
   ]
  },
  {
   "cell_type": "markdown",
   "id": "22641d90",
   "metadata": {},
   "source": [
    "Q7.  \n",
    "findall() method return a list of string"
   ]
  },
  {
   "cell_type": "markdown",
   "id": "1e79358a",
   "metadata": {},
   "source": [
    "Q8.  \n",
    "character | stands for OR option  \n",
    "for eg: \n",
    "re.search('n|a',string) indicates that search for a pattern which has either n or a\n"
   ]
  },
  {
   "cell_type": "markdown",
   "id": "def8b6d8",
   "metadata": {},
   "source": [
    "Q9.  \n",
    "In regex meta character are special character which holds a specific meaning\n",
    "\n",
    "for eg:  \n",
    ". indicate any character except new line  \n",
    "* indicate zero or more occcurence of a character  \n",
    "+ indicate min 1 or more occurence  \n",
    "similarly we have other character and sequences like {},[],(),\\d,\\w,\\b,...etc"
   ]
  },
  {
   "cell_type": "markdown",
   "id": "e924710d",
   "metadata": {},
   "source": [
    "Q10.  \n",
    "In regular expression * stands for zero or many occurences and + stands for minimum 1 or many occurences"
   ]
  },
  {
   "cell_type": "markdown",
   "id": "c542040b",
   "metadata": {},
   "source": [
    "Q11.  \n",
    "In regex  \n",
    "{4} - stands for exact four occurences  \n",
    "{4,5}-stands for range of occurence from minimum 4 to maximum 5 occuurence inbetween"
   ]
  },
  {
   "cell_type": "markdown",
   "id": "ad510c77",
   "metadata": {},
   "source": [
    "Q12.  \n",
    "IN regex  \n",
    "\\d- any digit value between 0-9  \n",
    "\\w- any value ranging from capital A to Z[A-Z],small letter [a-z], digit[0-9] and underscore _ \n",
    "\n",
    "\\s- whitespaces  "
   ]
  },
  {
   "cell_type": "markdown",
   "id": "00ee3968",
   "metadata": {},
   "source": [
    "Q13.  \n",
    "IN regex    \n",
    "\\D- includes character opposite of \\d i.e any non digit character   \n",
    "\\W-includes character which are not included in \\w [A-Za-z0-9_] i.e opposite of \\w including white spaces  \n",
    "\\S- includes character opposite of \\s i.e any non whitespace character  "
   ]
  },
  {
   "cell_type": "markdown",
   "id": "4cf415e6",
   "metadata": {},
   "source": [
    "Q14.  \n",
    ".* means any character except new line with zero or more occurence and .? means any charcter except newline with one or zero occurence"
   ]
  },
  {
   "cell_type": "markdown",
   "id": "4641f5a6",
   "metadata": {},
   "source": [
    "Q15  \n",
    "we can use following syntax for matching both numbers and lowercase letters in a string:  \n",
    "\\w  \n"
   ]
  },
  {
   "cell_type": "markdown",
   "id": "a06cb6e0",
   "metadata": {},
   "source": [
    "Q16  \n",
    "we can make regex expression case insensitive by usin flags= re.IGNORECASE\n"
   ]
  },
  {
   "cell_type": "markdown",
   "id": "6bf6f9dd",
   "metadata": {},
   "source": [
    "Q17.  \n",
    ". character matches or searches for any character in a string except new line  \n",
    "re.DOTALL is passed as a second argument to match all the characters including new line character in a string "
   ]
  },
  {
   "cell_type": "code",
   "execution_count": 53,
   "id": "1b533372",
   "metadata": {},
   "outputs": [
    {
     "data": {
      "text/plain": [
       "'x drummers,xpipes,five rings,x hen'"
      ]
     },
     "execution_count": 53,
     "metadata": {},
     "output_type": "execute_result"
    }
   ],
   "source": [
    "#Q18.\n",
    "#compile is used to save a pattern \n",
    "numreg= re.compile(r\"\\d+\"\n",
    "                  )\n",
    "#sub is used to replace any character or data in a string \n",
    "numreg.sub('x','11 drummers,10pipes,five rings,4 hen')\n"
   ]
  },
  {
   "cell_type": "markdown",
   "id": "b9c0dec7",
   "metadata": {},
   "source": [
    "Q19.  \n",
    "re.VERBOSE flag allow us to write regular expression that look nicer and are more readable by allowing us to visually separate logical section and patterns "
   ]
  },
  {
   "cell_type": "code",
   "execution_count": 11,
   "id": "b53da0f1",
   "metadata": {},
   "outputs": [
    {
     "name": "stdout",
     "output_type": "stream",
     "text": [
      "['42']\n",
      "['1,234']\n",
      "['6,368,745']\n",
      "[]\n"
     ]
    }
   ],
   "source": [
    "3#Q20.\n",
    "import re\n",
    "a='42'\n",
    "b=\"1,234\"\n",
    "c=\"6,368,745\"\n",
    "print(re.findall(r'\\d{2}',a))\n",
    "print(re.findall(r'\\d,\\d{3}',b))\n",
    "print(re.findall(r'\\d,\\d{3},\\d{3}',c))\n",
    "##\n",
    "d=\"12,374,567\"\n",
    "print(re.findall(\"[^(\\d*,\\d{2},\\d*)]\",d))\n",
    "\n"
   ]
  },
  {
   "cell_type": "code",
   "execution_count": 28,
   "id": "307aac7b",
   "metadata": {},
   "outputs": [
    {
     "name": "stdout",
     "output_type": "stream",
     "text": [
      "['Haruto Watanabe', 'Alice Watanabe', 'Robocop Watanabe']\n"
     ]
    }
   ],
   "source": [
    "#Q21.\n",
    "a='''Haruto Watanabe, Alice Watanabe Robocop Watanabe, haruto Watanabe ,Mr.Watanabe ,Watanabe ,Haruto watanabe '''\n",
    "\n",
    "print(re.findall(\"[A-Z]+[a-z]*[^\\W_] [A-Z][a-z]*\",a))"
   ]
  },
  {
   "cell_type": "code",
   "execution_count": 30,
   "id": "0f914fea",
   "metadata": {},
   "outputs": [
    {
     "name": "stdout",
     "output_type": "stream",
     "text": [
      "['Alice eats apples.', 'Bob pets cats.', 'Carol throws Apples.', 'BOB EATS CATS.', 'RoboCop eats apples.', 'ALICE THROWS FOOTBALLS.']\n"
     ]
    }
   ],
   "source": [
    "#Q22\n",
    "a=''' Alice eats apples., Bob pets cats., Carol throws Apples., BOB EATS CATS., RoboCop eats apples., ALICE THROWS FOOTBALLS.,Caroleats 7 cats.'''\n",
    "print(re.findall(\"[A-Z]+ [A-Z]+ [A-Z]+\\.\",a,flags= re.IGNORECASE))"
   ]
  },
  {
   "cell_type": "code",
   "execution_count": null,
   "id": "7439b8ac",
   "metadata": {},
   "outputs": [],
   "source": [
    "\n"
   ]
  },
  {
   "cell_type": "code",
   "execution_count": null,
   "id": "44f2bd21",
   "metadata": {},
   "outputs": [],
   "source": []
  },
  {
   "cell_type": "code",
   "execution_count": null,
   "id": "f07e77b0",
   "metadata": {},
   "outputs": [],
   "source": []
  },
  {
   "cell_type": "code",
   "execution_count": null,
   "id": "612cdde5",
   "metadata": {},
   "outputs": [],
   "source": []
  },
  {
   "cell_type": "code",
   "execution_count": null,
   "id": "66ceb33f",
   "metadata": {},
   "outputs": [],
   "source": []
  },
  {
   "cell_type": "code",
   "execution_count": null,
   "id": "4ef4e477",
   "metadata": {},
   "outputs": [],
   "source": []
  },
  {
   "cell_type": "code",
   "execution_count": null,
   "id": "c5743982",
   "metadata": {},
   "outputs": [],
   "source": []
  },
  {
   "cell_type": "code",
   "execution_count": null,
   "id": "74bd3e7c",
   "metadata": {},
   "outputs": [],
   "source": []
  },
  {
   "cell_type": "code",
   "execution_count": null,
   "id": "7b37d270",
   "metadata": {},
   "outputs": [],
   "source": []
  },
  {
   "cell_type": "code",
   "execution_count": null,
   "id": "511f1ee4",
   "metadata": {},
   "outputs": [],
   "source": []
  },
  {
   "cell_type": "code",
   "execution_count": null,
   "id": "dd287673",
   "metadata": {},
   "outputs": [],
   "source": []
  },
  {
   "cell_type": "code",
   "execution_count": null,
   "id": "24075e6b",
   "metadata": {},
   "outputs": [],
   "source": []
  },
  {
   "cell_type": "code",
   "execution_count": null,
   "id": "8ee5706c",
   "metadata": {},
   "outputs": [],
   "source": [
    "\n",
    "\n",
    "\n",
    "\n",
    "\n",
    "\n",
    "\n",
    "\n",
    "\n",
    "\n",
    "\n",
    "\n",
    "\n",
    "\n",
    "\n",
    "\n"
   ]
  },
  {
   "cell_type": "code",
   "execution_count": null,
   "id": "3055e984",
   "metadata": {},
   "outputs": [],
   "source": []
  },
  {
   "cell_type": "code",
   "execution_count": null,
   "id": "33e14dc8",
   "metadata": {},
   "outputs": [],
   "source": []
  },
  {
   "cell_type": "code",
   "execution_count": null,
   "id": "588bf5ad",
   "metadata": {},
   "outputs": [],
   "source": []
  },
  {
   "cell_type": "code",
   "execution_count": null,
   "id": "59c24a0d",
   "metadata": {},
   "outputs": [],
   "source": []
  },
  {
   "cell_type": "code",
   "execution_count": null,
   "id": "aa8ff7e1",
   "metadata": {},
   "outputs": [],
   "source": []
  },
  {
   "cell_type": "code",
   "execution_count": null,
   "id": "70e37f2e",
   "metadata": {},
   "outputs": [],
   "source": []
  },
  {
   "cell_type": "code",
   "execution_count": null,
   "id": "05ce1797",
   "metadata": {},
   "outputs": [],
   "source": []
  },
  {
   "cell_type": "code",
   "execution_count": null,
   "id": "d00dd9d5",
   "metadata": {},
   "outputs": [],
   "source": []
  },
  {
   "cell_type": "code",
   "execution_count": null,
   "id": "0167ce72",
   "metadata": {},
   "outputs": [],
   "source": []
  },
  {
   "cell_type": "code",
   "execution_count": null,
   "id": "6feaa804",
   "metadata": {},
   "outputs": [],
   "source": []
  },
  {
   "cell_type": "code",
   "execution_count": null,
   "id": "1398a0b9",
   "metadata": {},
   "outputs": [],
   "source": []
  },
  {
   "cell_type": "code",
   "execution_count": null,
   "id": "76f94569",
   "metadata": {},
   "outputs": [],
   "source": []
  },
  {
   "cell_type": "code",
   "execution_count": null,
   "id": "56c07a59",
   "metadata": {},
   "outputs": [],
   "source": []
  }
 ],
 "metadata": {
  "kernelspec": {
   "display_name": "Python 3 (ipykernel)",
   "language": "python",
   "name": "python3"
  },
  "language_info": {
   "codemirror_mode": {
    "name": "ipython",
    "version": 3
   },
   "file_extension": ".py",
   "mimetype": "text/x-python",
   "name": "python",
   "nbconvert_exporter": "python",
   "pygments_lexer": "ipython3",
   "version": "3.9.13"
  }
 },
 "nbformat": 4,
 "nbformat_minor": 5
}
