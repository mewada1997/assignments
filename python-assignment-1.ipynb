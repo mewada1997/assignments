{
 "cells": [
  {
   "cell_type": "markdown",
   "id": "8f6a0239",
   "metadata": {},
   "source": [
    "Q1.    \n",
    " (*) =  expression  \n",
    " (\"hello\") = value  \n",
    " (-87.8) = value  \n",
    " (/) = expression   \n",
    " (+) = expression  \n",
    " (6 )= value   "
   ]
  },
  {
   "cell_type": "markdown",
   "id": "9a23f5e0",
   "metadata": {},
   "source": [
    "Q2.  \n",
    "1.string is an type of data which holds characters enclosed in single, double or triple quotes  wheras variable is an entity which stores an value of a given data type\n",
    "\n",
    "2.for eg: \"ram123\" is an string type of data &\n",
    "a= \"ram123\" , a is variable which hold this string type of data in memory similarly it can hold any data say integer ,float,boolean,list,tuple,.... etc \n",
    "\n",
    "3.string can contain and startwith any character wheras a variable name cannot contain special character and varible name cannot start with an integer \n",
    "\n",
    "\n"
   ]
  },
  {
   "cell_type": "markdown",
   "id": "504aa2df",
   "metadata": {},
   "source": [
    "Q3.  \n",
    "1.int data type \n",
    "it contains integer type of data  ranging from negative integer to positive including zero without decimal eg : 132,0,-23\n",
    "\n",
    "2.float data type  \n",
    "it also contains integer type of data ranging from negative integer to positive with decimal\n",
    "eg : -2.5, 345.8\n",
    "\n",
    "3.boolean data type \n",
    "it contains either true or false \n",
    "eg: 2 > 5 \n",
    "it will return false \n",
    "\n",
    "apart from them there are various other data type like string, complex data type, none data type, list,tuple,set, dictionary etc...\n",
    "\n"
   ]
  },
  {
   "cell_type": "markdown",
   "id": "478a04f8",
   "metadata": {},
   "source": [
    "Q4 .  \n",
    "1.An expression is basically something which can perform some kind of operation using operators\n",
    "An operation can be mathematical computation operation, logical operation ,string concatenation, iteration using loop ,  any kind of operation it can be & finally interpret result \n",
    "operator can be used like arithmetic operator ,comparison operator ,etc..\n",
    "\n",
    "2.eg:\n",
    "a= 10 +50 -30\n"
   ]
  },
  {
   "cell_type": "markdown",
   "id": "ccb8c62d",
   "metadata": {},
   "source": [
    "Q5.  \n",
    "spam =10 is not performing any kind of mathematical operation it is just assigning value 10 to spam variable hence it is an statement not an exxpression\n",
    "for eg: a=10  \n",
    "        b=30  \n",
    "these are statements  \n",
    "&  \n",
    "c=a+b  \n",
    "this is an expression which is interpretting result at the end of operation\n",
    "\n"
   ]
  },
  {
   "cell_type": "code",
   "execution_count": 14,
   "id": "192fd4f6",
   "metadata": {},
   "outputs": [
    {
     "data": {
      "text/plain": [
       "23"
      ]
     },
     "execution_count": 14,
     "metadata": {},
     "output_type": "execute_result"
    }
   ],
   "source": [
    "#Q6.\n",
    "bacon =22\n",
    "bacon +1"
   ]
  },
  {
   "cell_type": "code",
   "execution_count": 21,
   "id": "a1ee8ae7",
   "metadata": {},
   "outputs": [
    {
     "data": {
      "text/plain": [
       "('spamspamspam', 'spamspam')"
      ]
     },
     "execution_count": 21,
     "metadata": {},
     "output_type": "execute_result"
    }
   ],
   "source": [
    "#Q7.\n",
    "a= \"spam\" + \"spamspam\"\n",
    "b= \"spam\" *2\n",
    "a ,b"
   ]
  },
  {
   "cell_type": "markdown",
   "id": "d3f1aaeb",
   "metadata": {},
   "source": [
    "Q8.  \n",
    "a variable name can start with any charcter except integer and can not contain special character \n",
    "hence egg is valid and 100 is invalid variable name "
   ]
  },
  {
   "cell_type": "markdown",
   "id": "e60e20b6",
   "metadata": {},
   "source": [
    "Q10.  \n",
    "\"i have eaten' + 99 + \"burritos\"\n",
    "we cannot concatenate a string with a integer . to fix this we have to typecast 99 in to string "
   ]
  },
  {
   "cell_type": "markdown",
   "id": "04b8f9e5",
   "metadata": {},
   "source": [
    "Q9.  \n",
    "we can use int(), float(), str() to get their version of a value "
   ]
  },
  {
   "cell_type": "markdown",
   "id": "b73bcaa6",
   "metadata": {},
   "source": [
    "\n"
   ]
  },
  {
   "cell_type": "code",
   "execution_count": null,
   "id": "ce1a233a",
   "metadata": {},
   "outputs": [],
   "source": []
  }
 ],
 "metadata": {
  "kernelspec": {
   "display_name": "Python 3 (ipykernel)",
   "language": "python",
   "name": "python3"
  },
  "language_info": {
   "codemirror_mode": {
    "name": "ipython",
    "version": 3
   },
   "file_extension": ".py",
   "mimetype": "text/x-python",
   "name": "python",
   "nbconvert_exporter": "python",
   "pygments_lexer": "ipython3",
   "version": "3.9.13"
  }
 },
 "nbformat": 4,
 "nbformat_minor": 5
}
