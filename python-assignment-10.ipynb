{
 "cells": [
  {
   "cell_type": "markdown",
   "id": "d896ea36",
   "metadata": {},
   "source": [
    "Q1.  \n",
    "Shutil.copy() is used to copy a file from one directory to another directory wheras shutil.copytree() is used to copy one folder or directory into another directory"
   ]
  },
  {
   "cell_type": "markdown",
   "id": "ff3963d4",
   "metadata": {},
   "source": [
    "Q2.  \n",
    "we can rename a file by using os.rename()"
   ]
  },
  {
   "cell_type": "markdown",
   "id": "054f3c31",
   "metadata": {},
   "source": [
    "Q3.  \n",
    "delete function in shutilmodule deletes the directory and in send2trash module it deletes the file,which can be restored from recycle bin if required in future"
   ]
  },
  {
   "cell_type": "markdown",
   "id": "75810735",
   "metadata": {},
   "source": [
    "Q4.  \n",
    "\n",
    "method ZipFile() is equivalent to file open() method  \n"
   ]
  },
  {
   "cell_type": "code",
   "execution_count": 29,
   "id": "aa5b943f",
   "metadata": {},
   "outputs": [],
   "source": [
    "#Q5.\n",
    "os.chdir(path)\n",
    "import shutil\n",
    "path= \"C:\\\\Users\\\\abc\\\\Pictures\\\\Screenshots\"\n",
    "destination=\"C:\\\\Users\\\\abc\\\\practise\"\n",
    "files= os.listdir(path)\n",
    "for i in files:\n",
    "    if i.endswith(\".png\"):\n",
    "        shutil.copy(i,destination)\n",
    "    else:\n",
    "        pass\n",
    "        \n",
    "\n",
    "        \n",
    "\n"
   ]
  },
  {
   "cell_type": "code",
   "execution_count": 30,
   "id": "6238c314",
   "metadata": {},
   "outputs": [
    {
     "data": {
      "text/plain": [
       "['.idea',\n",
       " '.ipynb_checkpoints',\n",
       " 'desktop.ini',\n",
       " 'main.py',\n",
       " 'python-assignment-2.ipynb',\n",
       " 'ram.png',\n",
       " 'Screenshot (5).png',\n",
       " 'test.py']"
      ]
     },
     "execution_count": 30,
     "metadata": {},
     "output_type": "execute_result"
    }
   ],
   "source": [
    "\n",
    "os.listdir(path)"
   ]
  },
  {
   "cell_type": "code",
   "execution_count": 31,
   "id": "c2f6025a",
   "metadata": {},
   "outputs": [
    {
     "data": {
      "text/plain": [
       "['ram.png', 'Screenshot (5).png']"
      ]
     },
     "execution_count": 31,
     "metadata": {},
     "output_type": "execute_result"
    }
   ],
   "source": [
    "os.listdir(destination)"
   ]
  },
  {
   "cell_type": "code",
   "execution_count": null,
   "id": "dcdbd7b5",
   "metadata": {},
   "outputs": [],
   "source": [
    "os."
   ]
  }
 ],
 "metadata": {
  "kernelspec": {
   "display_name": "Python 3 (ipykernel)",
   "language": "python",
   "name": "python3"
  },
  "language_info": {
   "codemirror_mode": {
    "name": "ipython",
    "version": 3
   },
   "file_extension": ".py",
   "mimetype": "text/x-python",
   "name": "python",
   "nbconvert_exporter": "python",
   "pygments_lexer": "ipython3",
   "version": "3.9.13"
  }
 },
 "nbformat": 4,
 "nbformat_minor": 5
}
