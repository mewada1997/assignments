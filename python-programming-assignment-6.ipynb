{
 "cells": [
  {
   "cell_type": "code",
   "execution_count": 4,
   "id": "e44ed3a4",
   "metadata": {},
   "outputs": [
    {
     "name": "stdout",
     "output_type": "stream",
     "text": [
      "enter series:20\n",
      "0 1,3,5,8,13,21,34,55,89,144,233,377,610,987,1597,2584,4181,6765,10946,17711,28657,"
     ]
    }
   ],
   "source": [
    "#q1\n",
    "def fib(n=int(input(\"enter series:\")),a=1,b=2):\n",
    "    if n==0:\n",
    "        return 1\n",
    "    else:\n",
    "        result= a+b\n",
    "        print(result,end=\",\")\n",
    "        fib(n-1,b,result)\n",
    "print(0,1,end=\",\")\n",
    "fib()\n"
   ]
  },
  {
   "cell_type": "code",
   "execution_count": 3,
   "id": "b4c27cfc",
   "metadata": {},
   "outputs": [
    {
     "data": {
      "text/plain": [
       "120"
      ]
     },
     "execution_count": 3,
     "metadata": {},
     "output_type": "execute_result"
    }
   ],
   "source": [
    "#Q2\n",
    "def fact(n):\n",
    "    if n==1 or n==0:\n",
    "        return 1\n",
    "    else :\n",
    "        return n*fact(n-1)\n",
    "fact(5)"
   ]
  },
  {
   "cell_type": "code",
   "execution_count": 5,
   "id": "03e13337",
   "metadata": {},
   "outputs": [
    {
     "name": "stdout",
     "output_type": "stream",
     "text": [
      "enter weight in kg 75\n",
      "enter height in foot 5.4\n"
     ]
    },
    {
     "data": {
      "text/plain": [
       "27.68495477548796"
      ]
     },
     "execution_count": 5,
     "metadata": {},
     "output_type": "execute_result"
    }
   ],
   "source": [
    "#Q3\n",
    "def bmi(a=float(input(\"enter weight in kg \")),b=float(input(\"enter height in foot \")) ):\n",
    "    b= (b*0.3048)**2\n",
    "    return a/b\n",
    "bmi()"
   ]
  },
  {
   "cell_type": "code",
   "execution_count": 6,
   "id": "15ecd39c",
   "metadata": {},
   "outputs": [
    {
     "name": "stdout",
     "output_type": "stream",
     "text": [
      "input a number5\n"
     ]
    },
    {
     "data": {
      "text/plain": [
       "1.6094379124341003"
      ]
     },
     "execution_count": 6,
     "metadata": {},
     "output_type": "execute_result"
    }
   ],
   "source": [
    "#q4\n",
    "import math\n",
    "def log(a=int(input(\"input a number\"))):\n",
    "    return math.log(a)\n",
    "log()\n",
    "    "
   ]
  },
  {
   "cell_type": "code",
   "execution_count": 10,
   "id": "567baab7",
   "metadata": {},
   "outputs": [
    {
     "data": {
      "text/plain": [
       "4356"
      ]
     },
     "execution_count": 10,
     "metadata": {},
     "output_type": "execute_result"
    }
   ],
   "source": [
    "#Q5\n",
    "def cube_sums(n):\n",
    "    if n==1 :\n",
    "        return 1\n",
    "    else:\n",
    "        return n**3+ cube_sum(n-1)\n",
    "cube_sums(11)"
   ]
  },
  {
   "cell_type": "code",
   "execution_count": null,
   "id": "4ae11a6d",
   "metadata": {},
   "outputs": [],
   "source": []
  }
 ],
 "metadata": {
  "kernelspec": {
   "display_name": "Python 3 (ipykernel)",
   "language": "python",
   "name": "python3"
  },
  "language_info": {
   "codemirror_mode": {
    "name": "ipython",
    "version": 3
   },
   "file_extension": ".py",
   "mimetype": "text/x-python",
   "name": "python",
   "nbconvert_exporter": "python",
   "pygments_lexer": "ipython3",
   "version": "3.9.13"
  }
 },
 "nbformat": 4,
 "nbformat_minor": 5
}
