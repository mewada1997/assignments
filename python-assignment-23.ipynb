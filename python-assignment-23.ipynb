{
 "cells": [
  {
   "cell_type": "code",
   "execution_count": 19,
   "id": "0476dc84",
   "metadata": {},
   "outputs": [
    {
     "name": "stdout",
     "output_type": "stream",
     "text": [
      "1 2 8\n"
     ]
    }
   ],
   "source": [
    "#Q1\n",
    "def func(a,b=6,c=8):\n",
    "    print(a,b,c)\n",
    "func(1,2)\n",
    "#function is made with three arguement out of which two are default values if not provided and one arguement must be passed"
   ]
  },
  {
   "cell_type": "code",
   "execution_count": 20,
   "id": "3da9beca",
   "metadata": {},
   "outputs": [
    {
     "name": "stdout",
     "output_type": "stream",
     "text": [
      "1 2 3\n"
     ]
    }
   ],
   "source": [
    "#Q2\n",
    "def func(a,b,c=5):\n",
    "    print(a,b,c)\n",
    "func(1,c=3,b=2)\n",
    "#when values are passed in function ,order is ignored hence to give a value to specific variable we must specify the variable along with its value"
   ]
  },
  {
   "cell_type": "code",
   "execution_count": 21,
   "id": "36cec703",
   "metadata": {},
   "outputs": [
    {
     "name": "stdout",
     "output_type": "stream",
     "text": [
      "1 (2, 3)\n"
     ]
    }
   ],
   "source": [
    "#Q3\n",
    "def func(a,*pargs):\n",
    "    print(a,pargs)\n",
    "func(1,2,3)\n",
    "#*pargs stands for multiple argument passing where the very first value is assigned to a and rest are stored in tuple"
   ]
  },
  {
   "cell_type": "code",
   "execution_count": 22,
   "id": "432c3629",
   "metadata": {},
   "outputs": [
    {
     "name": "stdout",
     "output_type": "stream",
     "text": [
      "1 {'b': 2, 'c': 3}\n"
     ]
    }
   ],
   "source": [
    "#Q4\n",
    "def func(a,**kargs):\n",
    "    print(a,kargs)\n",
    "func(a=1,b=2,c=3)\n",
    "#**kargs is used to assign  multiple value in key value pair in a dictionary "
   ]
  },
  {
   "cell_type": "code",
   "execution_count": 23,
   "id": "9df40116",
   "metadata": {},
   "outputs": [
    {
     "name": "stdout",
     "output_type": "stream",
     "text": [
      "1 5 6 5\n"
     ]
    }
   ],
   "source": [
    "#Q5\n",
    "def func(a,b,c=8,d=5):\n",
    "    print(a,b,c,d)\n",
    "func(1,*(5,6))\n",
    "# function assign value to variable as they are passed one by one \n",
    "#* is used to pass multiple argument \n",
    "#if argument not passed the will consider default value if assigned else throw error if no. of argument is not equals to variable"
   ]
  },
  {
   "cell_type": "code",
   "execution_count": 18,
   "id": "e164dc41",
   "metadata": {},
   "outputs": [
    {
     "data": {
      "text/plain": [
       "(1, ['x'], {'a': 'y'})"
      ]
     },
     "execution_count": 18,
     "metadata": {},
     "output_type": "execute_result"
    }
   ],
   "source": [
    "#Q6\n",
    "def func(a,b,c): a=2; b[0]=\"x\"; c[\"a\"]= \"y\"\n",
    "l=1 ; m=[1]; n= {\"a\": 0}\n",
    "func(l,m,n)\n",
    "l,m,n\n"
   ]
  },
  {
   "cell_type": "code",
   "execution_count": null,
   "id": "9b473e23",
   "metadata": {},
   "outputs": [],
   "source": []
  }
 ],
 "metadata": {
  "kernelspec": {
   "display_name": "Python 3 (ipykernel)",
   "language": "python",
   "name": "python3"
  },
  "language_info": {
   "codemirror_mode": {
    "name": "ipython",
    "version": 3
   },
   "file_extension": ".py",
   "mimetype": "text/x-python",
   "name": "python",
   "nbconvert_exporter": "python",
   "pygments_lexer": "ipython3",
   "version": "3.9.13"
  }
 },
 "nbformat": 4,
 "nbformat_minor": 5
}
