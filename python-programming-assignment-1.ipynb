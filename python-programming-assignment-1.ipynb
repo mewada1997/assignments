{
 "cells": [
  {
   "cell_type": "code",
   "execution_count": 1,
   "id": "5e7e9e78",
   "metadata": {},
   "outputs": [
    {
     "name": "stdout",
     "output_type": "stream",
     "text": [
      "\"hello python\" ?\n"
     ]
    }
   ],
   "source": [
    "#Q1\n",
    "print('\"hello python\" ?')"
   ]
  },
  {
   "cell_type": "code",
   "execution_count": 2,
   "id": "2f52c6f4",
   "metadata": {},
   "outputs": [
    {
     "name": "stdout",
     "output_type": "stream",
     "text": [
      "enter num15\n",
      "enter num25\n"
     ]
    },
    {
     "data": {
      "text/plain": [
       "'addition = 10, division = 1.0'"
      ]
     },
     "execution_count": 2,
     "metadata": {},
     "output_type": "execute_result"
    }
   ],
   "source": [
    "#Q2\n",
    "try:\n",
    "    def operation(a = int(input(\"enter num1\")),b = int(input(\"enter num2\"))):\n",
    "        add= a+b\n",
    "        div = a/b\n",
    "        return(f\"addition = {add}, division = {div}\")\n",
    "except Exception as e:\n",
    "    print(e)\n",
    "operation()"
   ]
  },
  {
   "cell_type": "code",
   "execution_count": 3,
   "id": "657c2d3f",
   "metadata": {},
   "outputs": [
    {
     "name": "stdout",
     "output_type": "stream",
     "text": [
      "enter base of triangle  5\n",
      "enter height of triangle  2\n"
     ]
    },
    {
     "data": {
      "text/plain": [
       "'area of triangle = 5.0'"
      ]
     },
     "execution_count": 3,
     "metadata": {},
     "output_type": "execute_result"
    }
   ],
   "source": [
    "#Q3\n",
    "try:\n",
    "    def area(a = int(input(\"enter base of triangle  \")),b = int(input(\"enter height of triangle  \"))):\n",
    "        area = 0.5 *a*b\n",
    "        return(f\"area of triangle = {area}\")\n",
    "except Exception as e:\n",
    "    print(e)\n",
    "area()"
   ]
  },
  {
   "cell_type": "code",
   "execution_count": 6,
   "id": "4e7408cf",
   "metadata": {},
   "outputs": [
    {
     "name": "stdout",
     "output_type": "stream",
     "text": [
      " num1 = 8\n",
      "num2 = 2\n"
     ]
    },
    {
     "data": {
      "text/plain": [
       "'num1 = 2 num2 =8'"
      ]
     },
     "execution_count": 6,
     "metadata": {},
     "output_type": "execute_result"
    }
   ],
   "source": [
    "#Q4\n",
    "try:\n",
    "    def swap(a = int(input(\" num1 = \")),b = int(input(\"num2 = \"))):\n",
    "        c = a\n",
    "        a=b\n",
    "        b= c\n",
    "        return(f\"num1 = {a} num2 ={b}\")\n",
    "except Exception as e:\n",
    "    print(e)\n",
    "swap()"
   ]
  },
  {
   "cell_type": "code",
   "execution_count": 5,
   "id": "1f44584b",
   "metadata": {},
   "outputs": [
    {
     "data": {
      "text/plain": [
       "467"
      ]
     },
     "execution_count": 5,
     "metadata": {},
     "output_type": "execute_result"
    }
   ],
   "source": [
    "#Q5\n",
    "try:\n",
    "    def random():           \n",
    "        import random        \n",
    "        return random.randint(0,1000)\n",
    "except Exception as e:\n",
    "    print(e)\n",
    "random()"
   ]
  },
  {
   "cell_type": "code",
   "execution_count": null,
   "id": "bb18778b",
   "metadata": {},
   "outputs": [],
   "source": []
  }
 ],
 "metadata": {
  "kernelspec": {
   "display_name": "Python 3 (ipykernel)",
   "language": "python",
   "name": "python3"
  },
  "language_info": {
   "codemirror_mode": {
    "name": "ipython",
    "version": 3
   },
   "file_extension": ".py",
   "mimetype": "text/x-python",
   "name": "python",
   "nbconvert_exporter": "python",
   "pygments_lexer": "ipython3",
   "version": "3.9.13"
  }
 },
 "nbformat": 4,
 "nbformat_minor": 5
}
