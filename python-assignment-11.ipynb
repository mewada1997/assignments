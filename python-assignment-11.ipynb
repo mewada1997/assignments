{
 "cells": [
  {
   "cell_type": "code",
   "execution_count": 6,
   "id": "f66769b6",
   "metadata": {},
   "outputs": [
    {
     "name": "stdout",
     "output_type": "stream",
     "text": [
      "-2\n"
     ]
    },
    {
     "ename": "AssertionError",
     "evalue": "please input positive number",
     "output_type": "error",
     "traceback": [
      "\u001b[1;31m---------------------------------------------------------------------------\u001b[0m",
      "\u001b[1;31mAssertionError\u001b[0m                            Traceback (most recent call last)",
      "\u001b[1;32m~\\AppData\\Local\\Temp\\ipykernel_740\\4116978158.py\u001b[0m in \u001b[0;36m<module>\u001b[1;34m\u001b[0m\n\u001b[0;32m      2\u001b[0m \u001b[1;31m#assert statement is used to check the logical condition and proceed if it is true or throw assertion error if condition is not true\u001b[0m\u001b[1;33m\u001b[0m\u001b[1;33m\u001b[0m\u001b[0m\n\u001b[0;32m      3\u001b[0m \u001b[0mspam\u001b[0m\u001b[1;33m=\u001b[0m \u001b[0mint\u001b[0m\u001b[1;33m(\u001b[0m\u001b[0minput\u001b[0m\u001b[1;33m(\u001b[0m\u001b[1;33m)\u001b[0m\u001b[1;33m)\u001b[0m\u001b[1;33m\u001b[0m\u001b[1;33m\u001b[0m\u001b[0m\n\u001b[1;32m----> 4\u001b[1;33m \u001b[1;32massert\u001b[0m \u001b[0mspam\u001b[0m\u001b[1;33m>=\u001b[0m\u001b[1;36m0\u001b[0m\u001b[1;33m,\u001b[0m\u001b[1;34m\"please input positive number\"\u001b[0m\u001b[1;33m\u001b[0m\u001b[1;33m\u001b[0m\u001b[0m\n\u001b[0m",
      "\u001b[1;31mAssertionError\u001b[0m: please input positive number"
     ]
    }
   ],
   "source": [
    "#Q1.  \n",
    "#assert statement is used to check the logical condition and proceed if it is true or throw assertion error if condition is not true\n",
    "spam= int(input())\n",
    "assert spam>=0,\"please input positive number\""
   ]
  },
  {
   "cell_type": "code",
   "execution_count": 35,
   "id": "aecd43a7",
   "metadata": {},
   "outputs": [
    {
     "name": "stdout",
     "output_type": "stream",
     "text": [
      "hello\n",
      "HELLO\n"
     ]
    },
    {
     "ename": "AssertionError",
     "evalue": "",
     "output_type": "error",
     "traceback": [
      "\u001b[1;31m---------------------------------------------------------------------------\u001b[0m",
      "\u001b[1;31mAssertionError\u001b[0m                            Traceback (most recent call last)",
      "\u001b[1;32m~\\AppData\\Local\\Temp\\ipykernel_740\\1325440081.py\u001b[0m in \u001b[0;36m<module>\u001b[1;34m\u001b[0m\n\u001b[0;32m      2\u001b[0m \u001b[0megg\u001b[0m\u001b[1;33m=\u001b[0m \u001b[0minput\u001b[0m\u001b[1;33m(\u001b[0m\u001b[1;33m)\u001b[0m\u001b[1;33m\u001b[0m\u001b[1;33m\u001b[0m\u001b[0m\n\u001b[0;32m      3\u001b[0m \u001b[0mbacon\u001b[0m\u001b[1;33m=\u001b[0m \u001b[0minput\u001b[0m\u001b[1;33m(\u001b[0m\u001b[1;33m)\u001b[0m\u001b[1;33m\u001b[0m\u001b[1;33m\u001b[0m\u001b[0m\n\u001b[1;32m----> 4\u001b[1;33m \u001b[1;32massert\u001b[0m  \u001b[0megg\u001b[0m\u001b[1;33m==\u001b[0m\u001b[0mbacon\u001b[0m\u001b[1;33m\u001b[0m\u001b[1;33m\u001b[0m\u001b[0m\n\u001b[0m",
      "\u001b[1;31mAssertionError\u001b[0m: "
     ]
    }
   ],
   "source": [
    "#Q2.\n",
    "egg= input()\n",
    "bacon= input()\n",
    "assert  egg==bacon"
   ]
  },
  {
   "cell_type": "code",
   "execution_count": 34,
   "id": "e3e3438b",
   "metadata": {},
   "outputs": [
    {
     "name": "stdout",
     "output_type": "stream",
     "text": [
      "\n"
     ]
    },
    {
     "ename": "AssertionError",
     "evalue": "",
     "output_type": "error",
     "traceback": [
      "\u001b[1;31m---------------------------------------------------------------------------\u001b[0m",
      "\u001b[1;31mAssertionError\u001b[0m                            Traceback (most recent call last)",
      "\u001b[1;32m~\\AppData\\Local\\Temp\\ipykernel_740\\3655006583.py\u001b[0m in \u001b[0;36m<module>\u001b[1;34m\u001b[0m\n\u001b[0;32m      1\u001b[0m \u001b[1;31m#Q3.\u001b[0m\u001b[1;33m\u001b[0m\u001b[1;33m\u001b[0m\u001b[0m\n\u001b[0;32m      2\u001b[0m \u001b[0megg\u001b[0m\u001b[1;33m=\u001b[0m \u001b[0minput\u001b[0m\u001b[1;33m(\u001b[0m\u001b[1;33m)\u001b[0m\u001b[1;33m\u001b[0m\u001b[1;33m\u001b[0m\u001b[0m\n\u001b[1;32m----> 3\u001b[1;33m \u001b[1;32massert\u001b[0m  \u001b[0megg\u001b[0m\u001b[1;33m==\u001b[0m\u001b[1;32mNone\u001b[0m\u001b[1;33m\u001b[0m\u001b[1;33m\u001b[0m\u001b[0m\n\u001b[0m",
      "\u001b[1;31mAssertionError\u001b[0m: "
     ]
    }
   ],
   "source": [
    "#Q3.\n",
    "egg= input()\n",
    "assert  egg==None"
   ]
  },
  {
   "cell_type": "markdown",
   "id": "b6de1aad",
   "metadata": {},
   "source": [
    "Q4.  \n",
    "in order to call logging.debug(), logging module must be present in our system i.e import logging must be present and level = logging.DEBUG"
   ]
  },
  {
   "cell_type": "markdown",
   "id": "27ae0f5a",
   "metadata": {},
   "source": [
    "Q5.  \n",
    "In order to send logging message to file program.log.txt we must set level=logging.DEBUG"
   ]
  },
  {
   "cell_type": "markdown",
   "id": "cb0a3b8a",
   "metadata": {},
   "source": [
    "Q6.  \n",
    "Five level of logging are  \n",
    "CRITICAL  \n",
    "ERROR  \n",
    "WARNING   \n",
    "INFO  \n",
    "DEBUG  "
   ]
  },
  {
   "cell_type": "markdown",
   "id": "b06d869b",
   "metadata": {},
   "source": [
    "Q7.  \n",
    "to disable logging we can use logging.disable() it will only log critical message i.e by default level=50 or we can set log level= critical "
   ]
  },
  {
   "cell_type": "markdown",
   "id": "48b90da6",
   "metadata": {},
   "source": [
    "Q8.  \n",
    "logging is used to store the record of the activity for future reference  \n",
    "multiple user use the same programm at different time ,at any time in future if we have to see what are the activity performed ,what errors are generated and why it has been occured we can see it in future  \n",
    "wheras print is used to print the output only in console "
   ]
  },
  {
   "cell_type": "markdown",
   "id": "1df9daf3",
   "metadata": {},
   "source": [
    "Q9.  \n",
    "step over means stepping or debugging code step by step without going into function  \n",
    "step into means stepping into function or class which is a part of my programme or another package  \n",
    "step out is used to come out of function or class which is a part of another module or package \n"
   ]
  },
  {
   "cell_type": "markdown",
   "id": "c6b7c7f9",
   "metadata": {},
   "source": [
    "Q10  \n",
    "continue execute until complete execution or upto a specified break point\n"
   ]
  },
  {
   "cell_type": "markdown",
   "id": "96fe4933",
   "metadata": {},
   "source": [
    "Q11 .  \n",
    "Break point is the point where the code pause during execution"
   ]
  },
  {
   "cell_type": "code",
   "execution_count": null,
   "id": "7c2f5eba",
   "metadata": {},
   "outputs": [],
   "source": []
  }
 ],
 "metadata": {
  "kernelspec": {
   "display_name": "Python 3 (ipykernel)",
   "language": "python",
   "name": "python3"
  },
  "language_info": {
   "codemirror_mode": {
    "name": "ipython",
    "version": 3
   },
   "file_extension": ".py",
   "mimetype": "text/x-python",
   "name": "python",
   "nbconvert_exporter": "python",
   "pygments_lexer": "ipython3",
   "version": "3.9.13"
  }
 },
 "nbformat": 4,
 "nbformat_minor": 5
}
