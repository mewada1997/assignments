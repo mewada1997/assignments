{
 "cells": [
  {
   "cell_type": "code",
   "execution_count": null,
   "id": "c47efbb9",
   "metadata": {},
   "outputs": [],
   "source": [
    "def test () :\n",
    "    print(\"ram\")"
   ]
  },
  {
   "cell_type": "code",
   "execution_count": null,
   "id": "528681b1",
   "metadata": {},
   "outputs": [],
   "source": [
    "test()"
   ]
  },
  {
   "cell_type": "code",
   "execution_count": null,
   "id": "8f714ce5",
   "metadata": {},
   "outputs": [],
   "source": [
    "a = test()"
   ]
  },
  {
   "cell_type": "code",
   "execution_count": null,
   "id": "cc79181e",
   "metadata": {},
   "outputs": [],
   "source": [
    "a"
   ]
  },
  {
   "cell_type": "code",
   "execution_count": null,
   "id": "03534bfe",
   "metadata": {},
   "outputs": [],
   "source": [
    "type(test())"
   ]
  },
  {
   "cell_type": "code",
   "execution_count": null,
   "id": "5734d5b4",
   "metadata": {},
   "outputs": [],
   "source": [
    "str(a)"
   ]
  },
  {
   "cell_type": "code",
   "execution_count": null,
   "id": "333647c1",
   "metadata": {},
   "outputs": [],
   "source": [
    "b=\"sss\""
   ]
  },
  {
   "cell_type": "code",
   "execution_count": null,
   "id": "6f644537",
   "metadata": {},
   "outputs": [],
   "source": [
    "b"
   ]
  },
  {
   "cell_type": "code",
   "execution_count": null,
   "id": "b3858af8",
   "metadata": {},
   "outputs": [],
   "source": [
    "type(int(print(b)))"
   ]
  },
  {
   "cell_type": "code",
   "execution_count": null,
   "id": "19e61732",
   "metadata": {},
   "outputs": [],
   "source": [
    "def test1():\n",
    "    return \"ram\""
   ]
  },
  {
   "cell_type": "code",
   "execution_count": null,
   "id": "6c344b95",
   "metadata": {},
   "outputs": [],
   "source": [
    "test1()"
   ]
  },
  {
   "cell_type": "code",
   "execution_count": null,
   "id": "4cfb9e71",
   "metadata": {},
   "outputs": [],
   "source": [
    "\"shyam\" + test1()"
   ]
  },
  {
   "cell_type": "code",
   "execution_count": null,
   "id": "03106d9e",
   "metadata": {},
   "outputs": [],
   "source": [
    "def test2() :\n",
    "    return 455"
   ]
  },
  {
   "cell_type": "code",
   "execution_count": null,
   "id": "5478103c",
   "metadata": {},
   "outputs": [],
   "source": [
    "test2()"
   ]
  },
  {
   "cell_type": "code",
   "execution_count": null,
   "id": "4717ed3d",
   "metadata": {},
   "outputs": [],
   "source": [
    "type(test2())"
   ]
  },
  {
   "cell_type": "code",
   "execution_count": null,
   "id": "66260993",
   "metadata": {},
   "outputs": [],
   "source": [
    "def test4():\n",
    "    return 4,3,\"dmd\", [1,12]"
   ]
  },
  {
   "cell_type": "code",
   "execution_count": null,
   "id": "d1f294d7",
   "metadata": {},
   "outputs": [],
   "source": [
    "b= test4()"
   ]
  },
  {
   "cell_type": "code",
   "execution_count": null,
   "id": "1d61e0c5",
   "metadata": {},
   "outputs": [],
   "source": [
    "b"
   ]
  },
  {
   "cell_type": "code",
   "execution_count": null,
   "id": "1d6ab701",
   "metadata": {},
   "outputs": [],
   "source": [
    "b[0]"
   ]
  },
  {
   "cell_type": "code",
   "execution_count": null,
   "id": "b8cd8feb",
   "metadata": {},
   "outputs": [],
   "source": [
    "b[2]"
   ]
  },
  {
   "cell_type": "code",
   "execution_count": null,
   "id": "1294128c",
   "metadata": {},
   "outputs": [],
   "source": [
    "a,b,c,d =85,66,56,45"
   ]
  },
  {
   "cell_type": "code",
   "execution_count": null,
   "id": "de5f4063",
   "metadata": {},
   "outputs": [],
   "source": [
    "x,y,b,m = test4()"
   ]
  },
  {
   "cell_type": "code",
   "execution_count": null,
   "id": "1402efc2",
   "metadata": {},
   "outputs": [],
   "source": [
    "x"
   ]
  },
  {
   "cell_type": "code",
   "execution_count": null,
   "id": "7a79abd4",
   "metadata": {},
   "outputs": [],
   "source": [
    "def test5():\n",
    "    a= 6*7\n",
    "    return a"
   ]
  },
  {
   "cell_type": "code",
   "execution_count": null,
   "id": "2970b6b8",
   "metadata": {},
   "outputs": [],
   "source": [
    "test5()"
   ]
  },
  {
   "cell_type": "code",
   "execution_count": null,
   "id": "a6f6d9a7",
   "metadata": {},
   "outputs": [],
   "source": [
    "[1,2,3,\"sudh\",[1,3,4]]\n",
    "def test6(l):\n",
    "    a =[]\n",
    "    if type(l)== list :\n",
    "        for i in l :\n",
    "            if  type(i)== int :\n",
    "                a.append(i)\n",
    "            else :\n",
    "                pass\n",
    "    return(a)\n",
    "    "
   ]
  },
  {
   "cell_type": "code",
   "execution_count": null,
   "id": "218f2597",
   "metadata": {},
   "outputs": [],
   "source": [
    "test6([1,2,3,\"sudh\",[1,3,4]])\n"
   ]
  },
  {
   "cell_type": "code",
   "execution_count": null,
   "id": "51c5313b",
   "metadata": {},
   "outputs": [],
   "source": [
    "type(n)"
   ]
  },
  {
   "cell_type": "code",
   "execution_count": null,
   "id": "f2c5b798",
   "metadata": {},
   "outputs": [],
   "source": [
    "n[0] + 2\n"
   ]
  },
  {
   "cell_type": "code",
   "execution_count": null,
   "id": "b9d8b670",
   "metadata": {},
   "outputs": [],
   "source": [
    "def test8(d) :\n",
    "    a=[]\n",
    "    if type(d) == dict :\n",
    "        for i in d :\n",
    "            a.append(i)\n",
    "        return(a)\n",
    "            "
   ]
  },
  {
   "cell_type": "code",
   "execution_count": null,
   "id": "d01dab10",
   "metadata": {},
   "outputs": [],
   "source": [
    "test8({ \"a\": 14, \"b\":15, \"c\":4})"
   ]
  },
  {
   "cell_type": "code",
   "execution_count": null,
   "id": "20e8b0f1",
   "metadata": {},
   "outputs": [],
   "source": [
    "c= {\"a\": 14, \"b\":15, \"c\":4}"
   ]
  },
  {
   "cell_type": "code",
   "execution_count": null,
   "id": "6f8e7d15",
   "metadata": {},
   "outputs": [],
   "source": [
    "a=[]\n",
    "for i in c.values() :\n",
    "    a.append(i)\n",
    "    "
   ]
  },
  {
   "cell_type": "code",
   "execution_count": null,
   "id": "455efcd2",
   "metadata": {},
   "outputs": [],
   "source": [
    "def test9(a,b) :\n",
    "    if type (a)== list and type(b)== list :\n",
    "        a.extend(b)\n",
    "    return a"
   ]
  },
  {
   "cell_type": "code",
   "execution_count": null,
   "id": "4e9fb8ee",
   "metadata": {},
   "outputs": [],
   "source": [
    "test9([1,2,3],[3,5,6,9])"
   ]
  },
  {
   "cell_type": "code",
   "execution_count": null,
   "id": "91b80a9b",
   "metadata": {},
   "outputs": [],
   "source": [
    "test9([1,2,3],[3,5,6,9])"
   ]
  },
  {
   "cell_type": "code",
   "execution_count": null,
   "id": "65289f66",
   "metadata": {},
   "outputs": [],
   "source": [
    "a"
   ]
  },
  {
   "cell_type": "code",
   "execution_count": null,
   "id": "0afbcbf7",
   "metadata": {},
   "outputs": [],
   "source": [
    "test9([1,2,3],[3,5,6,9])"
   ]
  },
  {
   "cell_type": "code",
   "execution_count": null,
   "id": "f28de574",
   "metadata": {},
   "outputs": [],
   "source": [
    "def test10(a):\n",
    "    \"\"\"this is triangle\"\"\"\n",
    "    for i in range(a) :\n",
    "        for j in range(0,i+1) :\n",
    "            print(\"*\",end=\"  \")\n",
    "        print(\"\\r\")"
   ]
  },
  {
   "cell_type": "code",
   "execution_count": null,
   "id": "5ebb51a5",
   "metadata": {},
   "outputs": [],
   "source": [
    "test10(5)"
   ]
  },
  {
   "cell_type": "code",
   "execution_count": null,
   "id": "92047f40",
   "metadata": {},
   "outputs": [],
   "source": [
    "print(end=\"  \")"
   ]
  },
  {
   "cell_type": "code",
   "execution_count": null,
   "id": "361bac3a",
   "metadata": {},
   "outputs": [],
   "source": [
    "help(test)"
   ]
  },
  {
   "cell_type": "code",
   "execution_count": null,
   "id": "7bb58d90",
   "metadata": {},
   "outputs": [],
   "source": [
    "def test11(word) :\n",
    "    \"\"\"length of string\"\"\"\n",
    "    length =0\n",
    "    for i in word :\n",
    "        length = length +1\n",
    "    return length \n",
    "        \n",
    "    "
   ]
  },
  {
   "cell_type": "code",
   "execution_count": null,
   "id": "46504f5d",
   "metadata": {},
   "outputs": [],
   "source": [
    "test11(\"898\")"
   ]
  },
  {
   "cell_type": "code",
   "execution_count": null,
   "id": "d825d439",
   "metadata": {},
   "outputs": [],
   "source": [
    "def test12(word) :\n",
    "    if type(word)== list or type(word)== tuple or type(word)== str :\n",
    "        for k in range(len(word)):\n",
    "            print(k,\"=\", word[k])\n",
    "    "
   ]
  },
  {
   "cell_type": "code",
   "execution_count": null,
   "id": "c76449cc",
   "metadata": {},
   "outputs": [],
   "source": [
    "test12([1,2,2,2,\"hff\"])"
   ]
  },
  {
   "cell_type": "code",
   "execution_count": null,
   "id": "67fa2ce4",
   "metadata": {},
   "outputs": [],
   "source": [
    "d= {\"ineuron\":{ \"a\": 14, \"b\":15, \"c\":4} , \"course\": {\"d\":45 , 'e': 98}, \"g\": 34, \"h\":[45,6,7,8], \"i\":(45,52,2),\"k\":\"sudh\"}"
   ]
  },
  {
   "cell_type": "code",
   "execution_count": null,
   "id": "426bb1b9",
   "metadata": {},
   "outputs": [],
   "source": [
    "d"
   ]
  },
  {
   "cell_type": "code",
   "execution_count": 14,
   "id": "741efae6",
   "metadata": {},
   "outputs": [],
   "source": [
    "def test13(element) :\n",
    "    l=[]\n",
    "    if type(element)== dict :\n",
    "        for i in element.values() :\n",
    "            if type(i)==dict :\n",
    "                for j in i.values():\n",
    "                    l.append(j)\n",
    "            elif type(i)==list or type(i)==tuple:\n",
    "                for k in i:\n",
    "                    l.append(k)\n",
    "            elif type(i)== int or type(i)== str :\n",
    "                l.append(i)\n",
    "            else:\n",
    "                pass\n",
    "    return (l)\n",
    "            \n",
    "            "
   ]
  },
  {
   "cell_type": "code",
   "execution_count": 15,
   "id": "d2688579",
   "metadata": {},
   "outputs": [
    {
     "ename": "NameError",
     "evalue": "name 'test14' is not defined",
     "output_type": "error",
     "traceback": [
      "\u001b[1;31m---------------------------------------------------------------------------\u001b[0m",
      "\u001b[1;31mNameError\u001b[0m                                 Traceback (most recent call last)",
      "\u001b[1;32m~\\AppData\\Local\\Temp\\ipykernel_4600\\2607577515.py\u001b[0m in \u001b[0;36m<module>\u001b[1;34m\u001b[0m\n\u001b[1;32m----> 1\u001b[1;33m \u001b[0mtest14\u001b[0m\u001b[1;33m(\u001b[0m\u001b[1;33m{\u001b[0m\u001b[1;34m\"ineuron\"\u001b[0m\u001b[1;33m:\u001b[0m\u001b[1;33m{\u001b[0m \u001b[1;34m\"a\"\u001b[0m\u001b[1;33m:\u001b[0m \u001b[1;36m14\u001b[0m\u001b[1;33m,\u001b[0m \u001b[1;34m\"b\"\u001b[0m\u001b[1;33m:\u001b[0m\u001b[1;36m15\u001b[0m\u001b[1;33m,\u001b[0m \u001b[1;34m\"c\"\u001b[0m\u001b[1;33m:\u001b[0m\u001b[1;36m4\u001b[0m\u001b[1;33m}\u001b[0m \u001b[1;33m,\u001b[0m \u001b[1;34m\"course\"\u001b[0m\u001b[1;33m:\u001b[0m \u001b[1;33m{\u001b[0m\u001b[1;34m\"d\"\u001b[0m\u001b[1;33m:\u001b[0m\u001b[1;36m45\u001b[0m \u001b[1;33m,\u001b[0m \u001b[1;34m'e'\u001b[0m\u001b[1;33m:\u001b[0m \u001b[1;36m98\u001b[0m\u001b[1;33m}\u001b[0m\u001b[1;33m,\u001b[0m \u001b[1;34m\"g\"\u001b[0m\u001b[1;33m:\u001b[0m \u001b[1;36m34\u001b[0m\u001b[1;33m,\u001b[0m \u001b[1;34m\"h\"\u001b[0m\u001b[1;33m:\u001b[0m\u001b[1;33m[\u001b[0m\u001b[1;36m45\u001b[0m\u001b[1;33m,\u001b[0m\u001b[1;36m6\u001b[0m\u001b[1;33m,\u001b[0m\u001b[1;36m7\u001b[0m\u001b[1;33m,\u001b[0m\u001b[1;36m8\u001b[0m\u001b[1;33m]\u001b[0m\u001b[1;33m,\u001b[0m \u001b[1;34m\"i\"\u001b[0m\u001b[1;33m:\u001b[0m\u001b[1;33m(\u001b[0m\u001b[1;36m45\u001b[0m\u001b[1;33m,\u001b[0m\u001b[1;36m52\u001b[0m\u001b[1;33m,\u001b[0m\u001b[1;36m2\u001b[0m\u001b[1;33m)\u001b[0m\u001b[1;33m,\u001b[0m\u001b[1;34m\"k\"\u001b[0m\u001b[1;33m:\u001b[0m\u001b[1;34m\"sudh\"\u001b[0m\u001b[1;33m}\u001b[0m\u001b[1;33m)\u001b[0m\u001b[1;33m\u001b[0m\u001b[1;33m\u001b[0m\u001b[0m\n\u001b[0m",
      "\u001b[1;31mNameError\u001b[0m: name 'test14' is not defined"
     ]
    }
   ],
   "source": [
    "test14({\"ineuron\":{ \"a\": 14, \"b\":15, \"c\":4} , \"course\": {\"d\":45 , 'e': 98}, \"g\": 34, \"h\":[45,6,7,8], \"i\":(45,52,2),\"k\":\"sudh\"})"
   ]
  },
  {
   "cell_type": "code",
   "execution_count": null,
   "id": "7baae1f9",
   "metadata": {},
   "outputs": [],
   "source": [
    "def test14(item) :\n",
    "    return test13(item) \n",
    "    \n",
    "    "
   ]
  },
  {
   "cell_type": "code",
   "execution_count": null,
   "id": "38d83bfa",
   "metadata": {},
   "outputs": [],
   "source": [
    "test14(\"ram\")"
   ]
  },
  {
   "cell_type": "code",
   "execution_count": 16,
   "id": "c711da86",
   "metadata": {},
   "outputs": [],
   "source": [
    "def test15(a,b,c) :\n",
    "    l= a+b+c\n",
    "    return (l)\n",
    "    "
   ]
  },
  {
   "cell_type": "code",
   "execution_count": 17,
   "id": "ba0e8151",
   "metadata": {},
   "outputs": [
    {
     "data": {
      "text/plain": [
       "[45, 6, 7, 8, 45, 52, 2, 'sudh', 5, 6, 'khkh']"
      ]
     },
     "execution_count": 17,
     "metadata": {},
     "output_type": "execute_result"
    }
   ],
   "source": [
    "test15([45,6,7,8], [45, 52, 2, 'sudh'],[5,6,\"khkh\"])"
   ]
  },
  {
   "cell_type": "code",
   "execution_count": null,
   "id": "cbddfccc",
   "metadata": {},
   "outputs": [],
   "source": [
    "l=[45,6,7,7,7,8]"
   ]
  },
  {
   "cell_type": "code",
   "execution_count": null,
   "id": "5c7ee471",
   "metadata": {},
   "outputs": [],
   "source": [
    "l.index(7)"
   ]
  },
  {
   "cell_type": "code",
   "execution_count": null,
   "id": "49ec0e2f",
   "metadata": {},
   "outputs": [],
   "source": [
    "def test16(item,no):\n",
    "    if type(item)== list :\n",
    "        for i in range(len(item)):\n",
    "            if no == item[i] :\n",
    "                print(i,\"=\",item[i])\n",
    "            "
   ]
  },
  {
   "cell_type": "code",
   "execution_count": null,
   "id": "ec335527",
   "metadata": {},
   "outputs": [],
   "source": [
    "test16([45,6,7,7,7,8],7)"
   ]
  },
  {
   "cell_type": "code",
   "execution_count": null,
   "id": "e5e1dd59",
   "metadata": {},
   "outputs": [],
   "source": [
    "import os\n",
    "print(os.listdir())"
   ]
  },
  {
   "cell_type": "code",
   "execution_count": null,
   "id": "dec0ec08",
   "metadata": {},
   "outputs": [],
   "source": [
    "for root, directory, file in os.walk(C:\\Program Files\\Microsoft Analysis Services):\n",
    "    print(root)"
   ]
  },
  {
   "cell_type": "code",
   "execution_count": null,
   "id": "2233e349",
   "metadata": {},
   "outputs": [],
   "source": [
    "def test17(*data):\n",
    "    return data"
   ]
  },
  {
   "cell_type": "code",
   "execution_count": null,
   "id": "da311813",
   "metadata": {},
   "outputs": [],
   "source": [
    "test17(1,2,\"nn\")"
   ]
  },
  {
   "cell_type": "code",
   "execution_count": null,
   "id": "470e4e34",
   "metadata": {},
   "outputs": [],
   "source": [
    "def test(*data, a):\n",
    "    return data,a "
   ]
  },
  {
   "cell_type": "code",
   "execution_count": null,
   "id": "2864035e",
   "metadata": {},
   "outputs": [],
   "source": [
    "test(2,3,4,a=78)"
   ]
  },
  {
   "cell_type": "code",
   "execution_count": null,
   "id": "57baf0a3",
   "metadata": {},
   "outputs": [],
   "source": [
    "def test18(*data):\n",
    "    l=[]\n",
    "    for i in data :\n",
    "        if type(i)== list:\n",
    "            l.append(i)\n",
    "    return l"
   ]
  },
  {
   "cell_type": "code",
   "execution_count": null,
   "id": "9e39a28a",
   "metadata": {},
   "outputs": [],
   "source": [
    "test18(1,2,3,[1,2,4],5,6,[1,2])"
   ]
  },
  {
   "cell_type": "code",
   "execution_count": null,
   "id": "470b77da",
   "metadata": {},
   "outputs": [],
   "source": [
    "l.append(4)"
   ]
  },
  {
   "cell_type": "code",
   "execution_count": null,
   "id": "a7b62f09",
   "metadata": {},
   "outputs": [],
   "source": [
    "l"
   ]
  },
  {
   "cell_type": "code",
   "execution_count": null,
   "id": "ebc74b4f",
   "metadata": {},
   "outputs": [],
   "source": [
    "def test19(**kwargs):\n",
    "    return kwargs\n"
   ]
  },
  {
   "cell_type": "code",
   "execution_count": null,
   "id": "f1747007",
   "metadata": {},
   "outputs": [],
   "source": [
    "test19(a=12,b=\"ram\")"
   ]
  },
  {
   "cell_type": "code",
   "execution_count": null,
   "id": "b810b45f",
   "metadata": {},
   "outputs": [],
   "source": [
    "a=lambda a,b : a*b\n",
    "    "
   ]
  },
  {
   "cell_type": "code",
   "execution_count": null,
   "id": "bf012b14",
   "metadata": {},
   "outputs": [],
   "source": [
    "a(9,9)"
   ]
  },
  {
   "cell_type": "code",
   "execution_count": null,
   "id": "b17d6837",
   "metadata": {},
   "outputs": [],
   "source": [
    "a=lambda *a :a\n"
   ]
  },
  {
   "cell_type": "code",
   "execution_count": null,
   "id": "79d8442d",
   "metadata": {},
   "outputs": [],
   "source": [
    "a(1,5,6)"
   ]
  },
  {
   "cell_type": "code",
   "execution_count": null,
   "id": "bab2645b",
   "metadata": {},
   "outputs": [],
   "source": [
    "x= lambda a: [i for i in a]"
   ]
  },
  {
   "cell_type": "code",
   "execution_count": null,
   "id": "116a95a2",
   "metadata": {},
   "outputs": [],
   "source": [
    "x([1,2,3])"
   ]
  },
  {
   "cell_type": "code",
   "execution_count": null,
   "id": "3d86da1d",
   "metadata": {},
   "outputs": [],
   "source": [
    "a= lambda **kwargs :kwargs"
   ]
  },
  {
   "cell_type": "code",
   "execution_count": null,
   "id": "04aca172",
   "metadata": {},
   "outputs": [],
   "source": [
    "a(a=45,b=67)"
   ]
  },
  {
   "cell_type": "code",
   "execution_count": 1,
   "id": "9c4bf5c0",
   "metadata": {},
   "outputs": [],
   "source": [
    "c=10\n",
    "def test19(c,d):\n",
    "    c=5\n",
    "    e=c*d\n",
    "    return e"
   ]
  },
  {
   "cell_type": "code",
   "execution_count": 2,
   "id": "69d1211a",
   "metadata": {},
   "outputs": [
    {
     "data": {
      "text/plain": [
       "50"
      ]
     },
     "execution_count": 2,
     "metadata": {},
     "output_type": "execute_result"
    }
   ],
   "source": [
    "test19(7,10)"
   ]
  },
  {
   "cell_type": "code",
   "execution_count": null,
   "id": "5b6bedb9",
   "metadata": {},
   "outputs": [],
   "source": [
    "c"
   ]
  },
  {
   "cell_type": "code",
   "execution_count": 5,
   "id": "d2efdf26",
   "metadata": {},
   "outputs": [],
   "source": [
    "l=[1,2,3,4]\n",
    "a= lambda a : [i+2 for i in a ]"
   ]
  },
  {
   "cell_type": "code",
   "execution_count": 6,
   "id": "b3c64f76",
   "metadata": {},
   "outputs": [
    {
     "data": {
      "text/plain": [
       "[3, 4, 5, 6]"
      ]
     },
     "execution_count": 6,
     "metadata": {},
     "output_type": "execute_result"
    }
   ],
   "source": [
    "a(l)"
   ]
  },
  {
   "cell_type": "code",
   "execution_count": 10,
   "id": "35ddde14",
   "metadata": {},
   "outputs": [
    {
     "data": {
      "text/plain": [
       "[(3, 1), (4, 4)]"
      ]
     },
     "execution_count": 10,
     "metadata": {},
     "output_type": "execute_result"
    }
   ],
   "source": [
    "[(i+2,i**2) for i in l if i < 3]"
   ]
  },
  {
   "cell_type": "code",
   "execution_count": 15,
   "id": "87df3adb",
   "metadata": {},
   "outputs": [],
   "source": [
    "l=[1,2,3,4]\n",
    "l1= []\n",
    "for i in l:\n",
    "    if i <4 :\n",
    "        l1.append((i**2,i+3))"
   ]
  },
  {
   "cell_type": "code",
   "execution_count": 16,
   "id": "87849565",
   "metadata": {},
   "outputs": [
    {
     "data": {
      "text/plain": [
       "[(1, 4), (4, 5), (9, 6)]"
      ]
     },
     "execution_count": 16,
     "metadata": {},
     "output_type": "execute_result"
    }
   ],
   "source": [
    "l1"
   ]
  },
  {
   "cell_type": "code",
   "execution_count": 18,
   "id": "20821cef",
   "metadata": {},
   "outputs": [
    {
     "data": {
      "text/plain": [
       "{0: 0, 1: 1, 4: 2, 9: 3, 16: 4}"
      ]
     },
     "execution_count": 18,
     "metadata": {},
     "output_type": "execute_result"
    }
   ],
   "source": [
    "{i**2 :i for i in range (5)}"
   ]
  },
  {
   "cell_type": "code",
   "execution_count": 1,
   "id": "b6a6170a",
   "metadata": {},
   "outputs": [],
   "source": [
    "a=10"
   ]
  },
  {
   "cell_type": "code",
   "execution_count": 3,
   "id": "41c7ae03",
   "metadata": {},
   "outputs": [],
   "source": [
    "s= 'ram'"
   ]
  },
  {
   "cell_type": "code",
   "execution_count": 4,
   "id": "21cae8c6",
   "metadata": {},
   "outputs": [],
   "source": [
    "s = iter(s)"
   ]
  },
  {
   "cell_type": "code",
   "execution_count": 5,
   "id": "59d4f537",
   "metadata": {},
   "outputs": [
    {
     "data": {
      "text/plain": [
       "'r'"
      ]
     },
     "execution_count": 5,
     "metadata": {},
     "output_type": "execute_result"
    }
   ],
   "source": [
    "next(s)"
   ]
  },
  {
   "cell_type": "code",
   "execution_count": 15,
   "id": "d66e6641",
   "metadata": {},
   "outputs": [],
   "source": [
    "a= range(5,44,9)"
   ]
  },
  {
   "cell_type": "code",
   "execution_count": 16,
   "id": "b2e7f0a3",
   "metadata": {},
   "outputs": [
    {
     "data": {
      "text/plain": [
       "range(5, 44, 9)"
      ]
     },
     "execution_count": 16,
     "metadata": {},
     "output_type": "execute_result"
    }
   ],
   "source": [
    "a"
   ]
  },
  {
   "cell_type": "code",
   "execution_count": 17,
   "id": "081fd887",
   "metadata": {},
   "outputs": [
    {
     "data": {
      "text/plain": [
       "[5, 14, 23, 32, 41]"
      ]
     },
     "execution_count": 17,
     "metadata": {},
     "output_type": "execute_result"
    }
   ],
   "source": [
    "list(a)"
   ]
  },
  {
   "cell_type": "code",
   "execution_count": 21,
   "id": "418b9e05",
   "metadata": {},
   "outputs": [],
   "source": [
    "def gencube(n):\n",
    "    for i in range(n):\n",
    "        return i**3 "
   ]
  },
  {
   "cell_type": "code",
   "execution_count": 22,
   "id": "c5dabedf",
   "metadata": {},
   "outputs": [
    {
     "data": {
      "text/plain": [
       "0"
      ]
     },
     "execution_count": 22,
     "metadata": {},
     "output_type": "execute_result"
    }
   ],
   "source": [
    "gencube(6)"
   ]
  },
  {
   "cell_type": "code",
   "execution_count": 2,
   "id": "32e68c31",
   "metadata": {},
   "outputs": [],
   "source": [
    "a=10"
   ]
  },
  {
   "cell_type": "code",
   "execution_count": 3,
   "id": "59ce3e0d",
   "metadata": {},
   "outputs": [],
   "source": [
    "def gencube(n):\n",
    "    for i in range (n):\n",
    "        yield i**3"
   ]
  },
  {
   "cell_type": "code",
   "execution_count": 4,
   "id": "8d29d41b",
   "metadata": {},
   "outputs": [
    {
     "data": {
      "text/plain": [
       "<generator object gencube at 0x000001C5BD27AF20>"
      ]
     },
     "execution_count": 4,
     "metadata": {},
     "output_type": "execute_result"
    }
   ],
   "source": [
    "gencube(10)"
   ]
  },
  {
   "cell_type": "code",
   "execution_count": 8,
   "id": "a358dc5b",
   "metadata": {},
   "outputs": [
    {
     "ename": "TypeError",
     "evalue": "'int' object is not iterable",
     "output_type": "error",
     "traceback": [
      "\u001b[1;31m---------------------------------------------------------------------------\u001b[0m",
      "\u001b[1;31mTypeError\u001b[0m                                 Traceback (most recent call last)",
      "\u001b[1;32m~\\AppData\\Local\\Temp\\ipykernel_3004\\1475772992.py\u001b[0m in \u001b[0;36m<module>\u001b[1;34m\u001b[0m\n\u001b[0;32m      1\u001b[0m \u001b[1;32mfor\u001b[0m \u001b[0mi\u001b[0m \u001b[1;32min\u001b[0m \u001b[0mgencube\u001b[0m\u001b[1;33m(\u001b[0m\u001b[1;36m9000\u001b[0m\u001b[1;33m)\u001b[0m\u001b[1;33m:\u001b[0m\u001b[1;33m\u001b[0m\u001b[1;33m\u001b[0m\u001b[0m\n\u001b[1;32m----> 2\u001b[1;33m     \u001b[0mlist\u001b[0m\u001b[1;33m(\u001b[0m\u001b[0mi\u001b[0m\u001b[1;33m)\u001b[0m\u001b[1;33m\u001b[0m\u001b[1;33m\u001b[0m\u001b[0m\n\u001b[0m",
      "\u001b[1;31mTypeError\u001b[0m: 'int' object is not iterable"
     ]
    }
   ],
   "source": [
    "\n",
    "for i in gencube(9000):\n",
    "    "
   ]
  },
  {
   "cell_type": "code",
   "execution_count": 22,
   "id": "6113b421",
   "metadata": {},
   "outputs": [],
   "source": [
    "def fib(n):\n",
    "    a = 1\n",
    "    b=1\n",
    "    for i in range(n):\n",
    "        yield a\n",
    "        a,b = b, a+b"
   ]
  },
  {
   "cell_type": "code",
   "execution_count": 23,
   "id": "23fba530",
   "metadata": {},
   "outputs": [
    {
     "name": "stdout",
     "output_type": "stream",
     "text": [
      "1\n",
      "1\n",
      "2\n",
      "3\n",
      "5\n",
      "8\n",
      "13\n",
      "21\n",
      "34\n"
     ]
    }
   ],
   "source": [
    "for i in fib(9):\n",
    "    print(i)"
   ]
  },
  {
   "cell_type": "code",
   "execution_count": 28,
   "id": "9dc4770a",
   "metadata": {},
   "outputs": [
    {
     "name": "stdout",
     "output_type": "stream",
     "text": [
      " Volume in drive C has no label.\n",
      " Volume Serial Number is 6865-4079\n",
      "\n",
      " Directory of C:\\Users\\abc\n",
      "\n",
      "11/26/2022  04:43 AM    <DIR>          .\n",
      "11/26/2022  04:43 AM    <DIR>          ..\n",
      "11/25/2022  05:22 PM    <DIR>          .ipynb_checkpoints\n",
      "11/24/2022  06:14 PM    <DIR>          .ipython\n",
      "11/24/2022  08:27 PM    <DIR>          .jupyter\n",
      "11/20/2022  08:12 PM    <DIR>          3D Objects\n",
      "11/24/2022  06:07 PM    <DIR>          anaconda3\n",
      "11/26/2022  04:37 AM             9,168 break indentation.ipynb\n",
      "11/20/2022  08:12 PM    <DIR>          Contacts\n",
      "11/24/2022  06:35 PM    <DIR>          Desktop\n",
      "11/24/2022  06:07 PM    <DIR>          Documents\n",
      "11/24/2022  05:58 PM    <DIR>          Downloads\n",
      "11/20/2022  08:12 PM    <DIR>          Favorites\n",
      "11/20/2022  08:12 PM    <DIR>          Links\n",
      "11/20/2022  08:12 PM    <DIR>          Music\n",
      "03/19/2019  08:42 AM    <DIR>          OneDrive\n",
      "11/20/2022  08:12 PM    <DIR>          Pictures\n",
      "11/20/2022  08:12 PM    <DIR>          Saved Games\n",
      "11/20/2022  08:12 PM    <DIR>          Searches\n",
      "11/26/2022  04:43 AM            23,635 Untitled.ipynb\n",
      "11/20/2022  08:12 PM    <DIR>          Videos\n",
      "               2 File(s)         32,803 bytes\n",
      "              19 Dir(s)  80,015,134,720 bytes free\n"
     ]
    }
   ],
   "source": [
    "ls"
   ]
  },
  {
   "cell_type": "code",
   "execution_count": 32,
   "id": "f91780d9",
   "metadata": {},
   "outputs": [],
   "source": [
    "f= open(\"test1.txt\",\"w\")"
   ]
  },
  {
   "cell_type": "code",
   "execution_count": 33,
   "id": "be120f56",
   "metadata": {},
   "outputs": [
    {
     "name": "stdout",
     "output_type": "stream",
     "text": [
      " Volume in drive C has no label.\n",
      " Volume Serial Number is 6865-4079\n",
      "\n",
      " Directory of C:\\Users\\abc\n",
      "\n",
      "11/26/2022  04:47 AM    <DIR>          .\n",
      "11/26/2022  04:47 AM    <DIR>          ..\n",
      "11/25/2022  05:22 PM    <DIR>          .ipynb_checkpoints\n",
      "11/24/2022  06:14 PM    <DIR>          .ipython\n",
      "11/24/2022  08:27 PM    <DIR>          .jupyter\n",
      "11/20/2022  08:12 PM    <DIR>          3D Objects\n",
      "11/24/2022  06:07 PM    <DIR>          anaconda3\n",
      "11/26/2022  04:37 AM             9,168 break indentation.ipynb\n",
      "11/20/2022  08:12 PM    <DIR>          Contacts\n",
      "11/24/2022  06:35 PM    <DIR>          Desktop\n",
      "11/24/2022  06:07 PM    <DIR>          Documents\n",
      "11/24/2022  05:58 PM    <DIR>          Downloads\n",
      "11/20/2022  08:12 PM    <DIR>          Favorites\n",
      "11/20/2022  08:12 PM    <DIR>          Links\n",
      "11/20/2022  08:12 PM    <DIR>          Music\n",
      "03/19/2019  08:42 AM    <DIR>          OneDrive\n",
      "11/20/2022  08:12 PM    <DIR>          Pictures\n",
      "11/20/2022  08:12 PM    <DIR>          Saved Games\n",
      "11/20/2022  08:12 PM    <DIR>          Searches\n",
      "11/26/2022  04:45 AM                 0 test.txt\n",
      "11/26/2022  04:47 AM                 0 test1.txt\n",
      "11/26/2022  04:45 AM            27,027 Untitled.ipynb\n",
      "11/20/2022  08:12 PM    <DIR>          Videos\n",
      "               4 File(s)         36,195 bytes\n",
      "              19 Dir(s)  80,013,250,560 bytes free\n"
     ]
    }
   ],
   "source": [
    "%ls"
   ]
  },
  {
   "cell_type": "code",
   "execution_count": 35,
   "id": "0955ff6c",
   "metadata": {},
   "outputs": [
    {
     "data": {
      "text/plain": [
       "11"
      ]
     },
     "execution_count": 35,
     "metadata": {},
     "output_type": "execute_result"
    }
   ],
   "source": [
    "f= open(\"test.txt\",\"w\")\n",
    "f.write(\"whatsup bro\")"
   ]
  },
  {
   "cell_type": "code",
   "execution_count": 37,
   "id": "4a318ab9",
   "metadata": {},
   "outputs": [
    {
     "data": {
      "text/plain": [
       "3"
      ]
     },
     "execution_count": 37,
     "metadata": {},
     "output_type": "execute_result"
    }
   ],
   "source": [
    "f=open('ram.txt',\"w\")\n",
    "f.write(\"ram\")"
   ]
  },
  {
   "cell_type": "code",
   "execution_count": 38,
   "id": "412752d9",
   "metadata": {},
   "outputs": [],
   "source": [
    "f.close()"
   ]
  },
  {
   "cell_type": "code",
   "execution_count": 46,
   "id": "ec78e108",
   "metadata": {},
   "outputs": [
    {
     "data": {
      "text/plain": [
       "'ram'"
      ]
     },
     "execution_count": 46,
     "metadata": {},
     "output_type": "execute_result"
    }
   ],
   "source": [
    "f=open(\"ram.txt\",\"r\")\n",
    "f.read()\n"
   ]
  },
  {
   "cell_type": "code",
   "execution_count": 47,
   "id": "e6741a6e",
   "metadata": {},
   "outputs": [
    {
     "ename": "UnsupportedOperation",
     "evalue": "not writable",
     "output_type": "error",
     "traceback": [
      "\u001b[1;31m---------------------------------------------------------------------------\u001b[0m",
      "\u001b[1;31mUnsupportedOperation\u001b[0m                      Traceback (most recent call last)",
      "\u001b[1;32m~\\AppData\\Local\\Temp\\ipykernel_3004\\1462241765.py\u001b[0m in \u001b[0;36m<module>\u001b[1;34m\u001b[0m\n\u001b[1;32m----> 1\u001b[1;33m \u001b[0mf\u001b[0m\u001b[1;33m.\u001b[0m\u001b[0mwrite\u001b[0m\u001b[1;33m(\u001b[0m\u001b[1;34m\"fjfj\"\u001b[0m\u001b[1;33m)\u001b[0m\u001b[1;33m\u001b[0m\u001b[1;33m\u001b[0m\u001b[0m\n\u001b[0m",
      "\u001b[1;31mUnsupportedOperation\u001b[0m: not writable"
     ]
    }
   ],
   "source": [
    "f.write(\"fjfj\")"
   ]
  },
  {
   "cell_type": "code",
   "execution_count": 51,
   "id": "a9f35100",
   "metadata": {},
   "outputs": [
    {
     "data": {
      "text/plain": [
       "0"
      ]
     },
     "execution_count": 51,
     "metadata": {},
     "output_type": "execute_result"
    }
   ],
   "source": [
    "f.seek(0)"
   ]
  },
  {
   "cell_type": "code",
   "execution_count": 52,
   "id": "07fa1072",
   "metadata": {},
   "outputs": [
    {
     "data": {
      "text/plain": [
       "'ram'"
      ]
     },
     "execution_count": 52,
     "metadata": {},
     "output_type": "execute_result"
    }
   ],
   "source": [
    "f.read()"
   ]
  },
  {
   "cell_type": "code",
   "execution_count": 53,
   "id": "e37e1374",
   "metadata": {},
   "outputs": [
    {
     "data": {
      "text/plain": [
       "3"
      ]
     },
     "execution_count": 53,
     "metadata": {},
     "output_type": "execute_result"
    }
   ],
   "source": [
    "f.tell()"
   ]
  },
  {
   "cell_type": "code",
   "execution_count": 54,
   "id": "000894ee",
   "metadata": {},
   "outputs": [
    {
     "data": {
      "text/plain": [
       "2"
      ]
     },
     "execution_count": 54,
     "metadata": {},
     "output_type": "execute_result"
    }
   ],
   "source": [
    "f.seek(2)"
   ]
  },
  {
   "cell_type": "code",
   "execution_count": 55,
   "id": "4c4f4087",
   "metadata": {},
   "outputs": [
    {
     "data": {
      "text/plain": [
       "2"
      ]
     },
     "execution_count": 55,
     "metadata": {},
     "output_type": "execute_result"
    }
   ],
   "source": [
    "f.tell()"
   ]
  },
  {
   "cell_type": "code",
   "execution_count": 79,
   "id": "a985dc02",
   "metadata": {},
   "outputs": [],
   "source": [
    "f= open(\"ram.txt\",\"r+\")\n"
   ]
  },
  {
   "cell_type": "code",
   "execution_count": 80,
   "id": "7f0e9d11",
   "metadata": {},
   "outputs": [
    {
     "data": {
      "text/plain": [
       "'ram\\nshyam\\nkaamgaam'"
      ]
     },
     "execution_count": 80,
     "metadata": {},
     "output_type": "execute_result"
    }
   ],
   "source": [
    "f.read()f="
   ]
  },
  {
   "cell_type": "code",
   "execution_count": 58,
   "id": "954304ad",
   "metadata": {},
   "outputs": [
    {
     "data": {
      "text/plain": [
       "''"
      ]
     },
     "execution_count": 58,
     "metadata": {},
     "output_type": "execute_result"
    }
   ],
   "source": [
    "f.readline()"
   ]
  },
  {
   "cell_type": "code",
   "execution_count": 62,
   "id": "cc3e0529",
   "metadata": {},
   "outputs": [
    {
     "data": {
      "text/plain": [
       "0"
      ]
     },
     "execution_count": 62,
     "metadata": {},
     "output_type": "execute_result"
    }
   ],
   "source": [
    "f.seek(0)"
   ]
  },
  {
   "cell_type": "code",
   "execution_count": 65,
   "id": "2143184e",
   "metadata": {},
   "outputs": [
    {
     "data": {
      "text/plain": [
       "'kaam'"
      ]
     },
     "execution_count": 65,
     "metadata": {},
     "output_type": "execute_result"
    }
   ],
   "source": [
    "f.readline()"
   ]
  },
  {
   "cell_type": "code",
   "execution_count": 68,
   "id": "27eaf35e",
   "metadata": {},
   "outputs": [],
   "source": [
    "f.close()"
   ]
  },
  {
   "cell_type": "code",
   "execution_count": 71,
   "id": "2df1d3b9",
   "metadata": {},
   "outputs": [
    {
     "data": {
      "text/plain": [
       "0"
      ]
     },
     "execution_count": 71,
     "metadata": {},
     "output_type": "execute_result"
    }
   ],
   "source": [
    "f.seek(0)"
   ]
  },
  {
   "cell_type": "code",
   "execution_count": 75,
   "id": "2a350fbf",
   "metadata": {},
   "outputs": [
    {
     "data": {
      "text/plain": [
       "4"
      ]
     },
     "execution_count": 75,
     "metadata": {},
     "output_type": "execute_result"
    }
   ],
   "source": [
    "f.write(\"gaam\")"
   ]
  },
  {
   "cell_type": "code",
   "execution_count": 78,
   "id": "224ed6e0",
   "metadata": {},
   "outputs": [
    {
     "data": {
      "text/plain": [
       "'ram\\nshyam\\nkaamgaam'"
      ]
     },
     "execution_count": 78,
     "metadata": {},
     "output_type": "execute_result"
    }
   ],
   "source": [
    "f.read()"
   ]
  },
  {
   "cell_type": "code",
   "execution_count": 100,
   "id": "064ad1d2",
   "metadata": {},
   "outputs": [
    {
     "data": {
      "text/plain": [
       "0"
      ]
     },
     "execution_count": 100,
     "metadata": {},
     "output_type": "execute_result"
    }
   ],
   "source": [
    "f.seek(0)"
   ]
  },
  {
   "cell_type": "code",
   "execution_count": 102,
   "id": "cd273ac7",
   "metadata": {},
   "outputs": [],
   "source": [
    "f=open(\"ram.txt\",\"r+\")"
   ]
  },
  {
   "cell_type": "code",
   "execution_count": 103,
   "id": "0f337bba",
   "metadata": {},
   "outputs": [],
   "source": [
    "data = f.readlines()"
   ]
  },
  {
   "cell_type": "code",
   "execution_count": 105,
   "id": "8d9792ad",
   "metadata": {},
   "outputs": [
    {
     "data": {
      "text/plain": [
       "['s']"
      ]
     },
     "execution_count": 105,
     "metadata": {},
     "output_type": "execute_result"
    }
   ],
   "source": [
    "data[1][0].split()"
   ]
  },
  {
   "cell_type": "code",
   "execution_count": 115,
   "id": "6aaee58c",
   "metadata": {},
   "outputs": [
    {
     "ename": "FileNotFoundError",
     "evalue": "[Errno 2] No such file or directory: 'test.txt'",
     "output_type": "error",
     "traceback": [
      "\u001b[1;31m---------------------------------------------------------------------------\u001b[0m",
      "\u001b[1;31mFileNotFoundError\u001b[0m                         Traceback (most recent call last)",
      "\u001b[1;32m~\\AppData\\Local\\Temp\\ipykernel_3004\\3192274537.py\u001b[0m in \u001b[0;36m<module>\u001b[1;34m\u001b[0m\n\u001b[1;32m----> 1\u001b[1;33m \u001b[0mf\u001b[0m\u001b[1;33m=\u001b[0m\u001b[0mopen\u001b[0m\u001b[1;33m(\u001b[0m\u001b[1;34m\"test.txt\"\u001b[0m\u001b[1;33m,\u001b[0m\u001b[1;34m\"r+\"\u001b[0m\u001b[1;33m)\u001b[0m\u001b[1;33m\u001b[0m\u001b[1;33m\u001b[0m\u001b[0m\n\u001b[0m\u001b[0;32m      2\u001b[0m f.write('''\n\u001b[0;32m      3\u001b[0m         \u001b[0majsdadj\u001b[0m \u001b[0mladalkdw\u001b[0m \u001b[0mdadabdwdh\u001b[0m\u001b[1;33m\u001b[0m\u001b[1;33m\u001b[0m\u001b[0m\n\u001b[0;32m      4\u001b[0m         \u001b[0mCNsncssnc\u001b[0m\u001b[1;33m\u001b[0m\u001b[1;33m\u001b[0m\u001b[0m\n\u001b[0;32m      5\u001b[0m         \u001b[0msnjcjncs\u001b[0m \u001b[0mcsklc\u001b[0m\u001b[1;33m\u001b[0m\u001b[1;33m\u001b[0m\u001b[0m\n",
      "\u001b[1;31mFileNotFoundError\u001b[0m: [Errno 2] No such file or directory: 'test.txt'"
     ]
    }
   ],
   "source": [
    "f=open(\"test.txt\",\"r+\")\n",
    "f.write('''\n",
    "        ajsdadj ladalkdw dadabdwdh\n",
    "        CNsncssnc \n",
    "        snjcjncs csklc \n",
    "        ''')"
   ]
  },
  {
   "cell_type": "code",
   "execution_count": 116,
   "id": "ed447089",
   "metadata": {},
   "outputs": [
    {
     "ename": "FileNotFoundError",
     "evalue": "[Errno 2] No such file or directory: 'test.txt'",
     "output_type": "error",
     "traceback": [
      "\u001b[1;31m---------------------------------------------------------------------------\u001b[0m",
      "\u001b[1;31mFileNotFoundError\u001b[0m                         Traceback (most recent call last)",
      "\u001b[1;32m~\\AppData\\Local\\Temp\\ipykernel_3004\\18007547.py\u001b[0m in \u001b[0;36m<module>\u001b[1;34m\u001b[0m\n\u001b[1;32m----> 1\u001b[1;33m \u001b[0mf\u001b[0m \u001b[1;33m=\u001b[0m\u001b[0mopen\u001b[0m\u001b[1;33m(\u001b[0m\u001b[1;34m\"test.txt\"\u001b[0m\u001b[1;33m)\u001b[0m\u001b[1;33m\u001b[0m\u001b[1;33m\u001b[0m\u001b[0m\n\u001b[0m",
      "\u001b[1;31mFileNotFoundError\u001b[0m: [Errno 2] No such file or directory: 'test.txt'"
     ]
    }
   ],
   "source": [
    "f =open(\"test.txt\")"
   ]
  },
  {
   "cell_type": "code",
   "execution_count": 118,
   "id": "099a66ee",
   "metadata": {},
   "outputs": [],
   "source": [
    "f= open(\"shyam.txt\",\"w\")"
   ]
  },
  {
   "cell_type": "code",
   "execution_count": 119,
   "id": "21e6d479",
   "metadata": {},
   "outputs": [
    {
     "data": {
      "text/plain": [
       "87"
      ]
     },
     "execution_count": 119,
     "metadata": {},
     "output_type": "execute_result"
    }
   ],
   "source": [
    "f.write('''\n",
    "        ajsdadj ladalkdw dadabdwdh\n",
    "        CNsncssnc \n",
    "        snjcjncs csklc \n",
    "        ''')"
   ]
  },
  {
   "cell_type": "code",
   "execution_count": 150,
   "id": "2e7651aa",
   "metadata": {},
   "outputs": [],
   "source": [
    "f=open(\"shyam.txt\",\"r+\")"
   ]
  },
  {
   "cell_type": "code",
   "execution_count": 158,
   "id": "2f7066f8",
   "metadata": {},
   "outputs": [],
   "source": [
    "data =f.readlines()\n"
   ]
  },
  {
   "cell_type": "code",
   "execution_count": 169,
   "id": "8dc5a8bd",
   "metadata": {},
   "outputs": [],
   "source": [
    "data1=data[1].split()"
   ]
  },
  {
   "cell_type": "code",
   "execution_count": 170,
   "id": "0354f5dd",
   "metadata": {},
   "outputs": [
    {
     "data": {
      "text/plain": [
       "0"
      ]
     },
     "execution_count": 170,
     "metadata": {},
     "output_type": "execute_result"
    }
   ],
   "source": [
    "f.seek(0)"
   ]
  },
  {
   "cell_type": "code",
   "execution_count": 171,
   "id": "47c7b6ff",
   "metadata": {},
   "outputs": [],
   "source": [
    "a=10\n",
    "    \n",
    "    "
   ]
  },
  {
   "cell_type": "code",
   "execution_count": 167,
   "id": "ac35e429",
   "metadata": {},
   "outputs": [],
   "source": [
    "a= \" sifkfk af,alfdf\""
   ]
  },
  {
   "cell_type": "code",
   "execution_count": 168,
   "id": "e76124b3",
   "metadata": {},
   "outputs": [
    {
     "data": {
      "text/plain": [
       "['sifkfk', 'af,alfdf']"
      ]
     },
     "execution_count": 168,
     "metadata": {},
     "output_type": "execute_result"
    }
   ],
   "source": [
    "a.split()"
   ]
  },
  {
   "cell_type": "code",
   "execution_count": 184,
   "id": "6cbc0630",
   "metadata": {},
   "outputs": [],
   "source": [
    "l= [\"nuujjjjjjjjjjjjjjjjjjj\"]"
   ]
  },
  {
   "cell_type": "code",
   "execution_count": 193,
   "id": "a54afd87",
   "metadata": {},
   "outputs": [],
   "source": [
    "f=open(\"shyam.txt\",\"r+\")"
   ]
  },
  {
   "cell_type": "code",
   "execution_count": 194,
   "id": "720f7c64",
   "metadata": {},
   "outputs": [],
   "source": [
    "f.writelines(l)"
   ]
  },
  {
   "cell_type": "code",
   "execution_count": 195,
   "id": "8df0ff6e",
   "metadata": {},
   "outputs": [],
   "source": [
    "f.close()"
   ]
  },
  {
   "cell_type": "code",
   "execution_count": 192,
   "id": "a4c570ec",
   "metadata": {},
   "outputs": [],
   "source": [
    "l=[\"jddjdjdj\",\"djdjdjdjdj\"]"
   ]
  },
  {
   "cell_type": "code",
   "execution_count": 196,
   "id": "004df247",
   "metadata": {},
   "outputs": [],
   "source": [
    "import os"
   ]
  },
  {
   "cell_type": "code",
   "execution_count": 197,
   "id": "f4ea856e",
   "metadata": {},
   "outputs": [],
   "source": [
    "os.remove(\"shya.txt\")"
   ]
  },
  {
   "cell_type": "code",
   "execution_count": 1,
   "id": "b03d443d",
   "metadata": {},
   "outputs": [],
   "source": [
    "import os"
   ]
  },
  {
   "cell_type": "code",
   "execution_count": 2,
   "id": "e9e2f8b9",
   "metadata": {},
   "outputs": [
    {
     "data": {
      "text/plain": [
       "'C:\\\\Users\\\\abc'"
      ]
     },
     "execution_count": 2,
     "metadata": {},
     "output_type": "execute_result"
    }
   ],
   "source": [
    "os.getcwd()"
   ]
  },
  {
   "cell_type": "code",
   "execution_count": 3,
   "id": "158dba92",
   "metadata": {},
   "outputs": [
    {
     "data": {
      "text/plain": [
       "'C:\\\\Users\\\\abc'"
      ]
     },
     "execution_count": 3,
     "metadata": {},
     "output_type": "execute_result"
    }
   ],
   "source": [
    "pwd"
   ]
  },
  {
   "cell_type": "code",
   "execution_count": 9,
   "id": "dfe9da1e",
   "metadata": {},
   "outputs": [
    {
     "data": {
      "text/plain": [
       "['IntelCPHS.log', 'IntelGFX.log', 'IntelGFXCoin.log']"
      ]
     },
     "execution_count": 9,
     "metadata": {},
     "output_type": "execute_result"
    }
   ],
   "source": [
    "os.listdir(\"C:\\\\Intel\\\\logs\")"
   ]
  },
  {
   "cell_type": "code",
   "execution_count": 13,
   "id": "c14ef5a5",
   "metadata": {},
   "outputs": [
    {
     "ename": "NameError",
     "evalue": "name 'txt' is not defined",
     "output_type": "error",
     "traceback": [
      "\u001b[1;31m---------------------------------------------------------------------------\u001b[0m",
      "\u001b[1;31mNameError\u001b[0m                                 Traceback (most recent call last)",
      "\u001b[1;32m~\\AppData\\Local\\Temp\\ipykernel_4600\\984240490.py\u001b[0m in \u001b[0;36m<module>\u001b[1;34m\u001b[0m\n\u001b[0;32m      1\u001b[0m \u001b[1;32mfor\u001b[0m \u001b[0mi\u001b[0m \u001b[1;32min\u001b[0m \u001b[0mos\u001b[0m\u001b[1;33m.\u001b[0m\u001b[0mlistdir\u001b[0m\u001b[1;33m(\u001b[0m\u001b[1;33m)\u001b[0m \u001b[1;33m:\u001b[0m\u001b[1;33m\u001b[0m\u001b[1;33m\u001b[0m\u001b[0m\n\u001b[1;32m----> 2\u001b[1;33m     \u001b[1;32mif\u001b[0m \u001b[0mtype\u001b[0m\u001b[1;33m(\u001b[0m\u001b[0mi\u001b[0m\u001b[1;33m)\u001b[0m\u001b[1;33m==\u001b[0m \u001b[0mtxt\u001b[0m \u001b[1;33m:\u001b[0m\u001b[1;33m\u001b[0m\u001b[1;33m\u001b[0m\u001b[0m\n\u001b[0m\u001b[0;32m      3\u001b[0m         \u001b[0mf\u001b[0m\u001b[1;33m.\u001b[0m\u001b[0mread\u001b[0m\u001b[1;33m(\u001b[0m\u001b[0mi\u001b[0m\u001b[1;33m)\u001b[0m\u001b[1;33m\u001b[0m\u001b[1;33m\u001b[0m\u001b[0m\n\u001b[0;32m      4\u001b[0m \u001b[1;33m\u001b[0m\u001b[0m\n",
      "\u001b[1;31mNameError\u001b[0m: name 'txt' is not defined"
     ]
    }
   ],
   "source": [
    "for i in os.listdir() :\n",
    "    if type(i)== txt :\n",
    "        f.read(i)\n",
    "        "
   ]
  },
  {
   "cell_type": "code",
   "execution_count": 18,
   "id": "6a554ffa",
   "metadata": {},
   "outputs": [],
   "source": [
    "def fun8():\n",
    "    import platform as p1\n",
    "    return p1.uname()"
   ]
  },
  {
   "cell_type": "code",
   "execution_count": 19,
   "id": "31e3c926",
   "metadata": {},
   "outputs": [
    {
     "data": {
      "text/plain": [
       "uname_result(system='Windows', node='DESKTOP-718U6TV', release='10', version='10.0.19045', machine='AMD64')"
      ]
     },
     "execution_count": 19,
     "metadata": {},
     "output_type": "execute_result"
    }
   ],
   "source": [
    "fun8()"
   ]
  },
  {
   "cell_type": "raw",
   "id": "3c834768",
   "metadata": {},
   "source": [
    "snsns\n",
    "ss\n",
    "sss\n",
    "sss\n",
    "\n",
    "\n",
    "\n"
   ]
  },
  {
   "cell_type": "code",
   "execution_count": null,
   "id": "3d997af6",
   "metadata": {},
   "outputs": [],
   "source": []
  }
 ],
 "metadata": {
  "kernelspec": {
   "display_name": "Python 3 (ipykernel)",
   "language": "python",
   "name": "python3"
  },
  "language_info": {
   "codemirror_mode": {
    "name": "ipython",
    "version": 3
   },
   "file_extension": ".py",
   "mimetype": "text/x-python",
   "name": "python",
   "nbconvert_exporter": "python",
   "pygments_lexer": "ipython3",
   "version": "3.9.13"
  }
 },
 "nbformat": 4,
 "nbformat_minor": 5
}
