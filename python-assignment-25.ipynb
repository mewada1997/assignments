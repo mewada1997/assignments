{
 "cells": [
  {
   "cell_type": "code",
   "execution_count": 9,
   "id": "3a850609",
   "metadata": {},
   "outputs": [
    {
     "name": "stdout",
     "output_type": "stream",
     "text": [
      "[0, 2, 4, 6]\n",
      "<generator object <genexpr> at 0x0000024ECF1C5580>\n"
     ]
    }
   ],
   "source": [
    "#Q1\n",
    "#enclosing list comprehension in square bracket returns a list \n",
    "#enclosing list comprehension in paranthesis returns a generator object \n",
    "print([i*2 for i in range(4)])\n",
    "print((i*2 for i in range(4)))"
   ]
  },
  {
   "cell_type": "markdown",
   "id": "1e7f214c",
   "metadata": {},
   "source": [
    "Q2  \n",
    "generator object is created by using function along with yield keyword.  \n",
    "yield is an iterator which remember the current state and fetch next data one by one \n"
   ]
  },
  {
   "cell_type": "code",
   "execution_count": 10,
   "id": "374933d5",
   "metadata": {},
   "outputs": [],
   "source": [
    "#Q3\n",
    "#generator function use yied statement \n",
    "#normal function use return statement\n"
   ]
  },
  {
   "cell_type": "markdown",
   "id": "d5f9eacd",
   "metadata": {},
   "source": [
    "Q4.  \n",
    "yield statement is basically an iterator  \n",
    "yield statement instead of computing everything at once ,it compute one by one by remembering the logic of previous calculation and gives the output in a sequential manner i.e it yield one by one "
   ]
  },
  {
   "cell_type": "markdown",
   "id": "e0fa30b7",
   "metadata": {},
   "source": [
    "Q5.  \n",
    "1. list comprhension gives list as an output wheras map() gives map object which is then converted to desired output form  \n",
    "2.list comprhension allow filtering wheras in map it will map each and every element from iterable  \n",
    "3.map is easy to call on already defined function"
   ]
  },
  {
   "cell_type": "code",
   "execution_count": null,
   "id": "a819b1b5",
   "metadata": {},
   "outputs": [],
   "source": []
  }
 ],
 "metadata": {
  "kernelspec": {
   "display_name": "Python 3 (ipykernel)",
   "language": "python",
   "name": "python3"
  },
  "language_info": {
   "codemirror_mode": {
    "name": "ipython",
    "version": 3
   },
   "file_extension": ".py",
   "mimetype": "text/x-python",
   "name": "python",
   "nbconvert_exporter": "python",
   "pygments_lexer": "ipython3",
   "version": "3.9.13"
  }
 },
 "nbformat": 4,
 "nbformat_minor": 5
}
