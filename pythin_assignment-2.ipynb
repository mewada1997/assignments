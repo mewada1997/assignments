{
 "cells": [
  {
   "cell_type": "markdown",
   "id": "55bb48ad",
   "metadata": {},
   "source": [
    "Q1.  \n",
    "two value of boolean data type are true and false  \n",
    "we assign them like  \n",
    "spam= True  \n",
    "spam= False  "
   ]
  },
  {
   "cell_type": "markdown",
   "id": "4a56c756",
   "metadata": {},
   "source": [
    "Q2.  \n",
    "following are the boolean operators:  \n",
    "1.and  \n",
    "2.or  \n",
    "3.not  \n",
    "\n"
   ]
  },
  {
   "cell_type": "markdown",
   "id": "306be042",
   "metadata": {},
   "source": [
    "Q3.  \n",
    "1.and operator truth table  \n",
    "    True and True = True  \n",
    "    True and False = False   \n",
    "    False and False = False   \n",
    "it return true value only when all the confitions are true else return's false   \n",
    "2.or operator truth table  \n",
    "    True or False = True   \n",
    "    True or True= True   \n",
    "    False or False= False  \n",
    "it return true value when atleast on condition is true and return false when all condition are false   \n",
    "3.not operator   \n",
    "    not True = False  \n",
    "    not False = True  \n",
    "it reverses the answere   \n"
   ]
  },
  {
   "cell_type": "markdown",
   "id": "7aad4ca9",
   "metadata": {},
   "source": [
    "Q4.  \n",
    "1.(5>4) and (3==5)  \n",
    "   False  \n",
    "2.not(5>4)  \n",
    "    False  \n",
    "3.(5>4) or (3==5)  \n",
    "    True  \n",
    "4.not((5>4) or (3==5))  \n",
    "    False  \n",
    "5.(True and True) and(True== False)  \n",
    "    False  \n",
    "6.(not False) or (not True)  \n",
    "    True  "
   ]
  },
  {
   "cell_type": "markdown",
   "id": "7dff0f00",
   "metadata": {},
   "source": [
    "Q5.  \n",
    "following are the comparision operators  \n",
    " <, >, ==, >= ,<= , !="
   ]
  },
  {
   "cell_type": "markdown",
   "id": "42f973db",
   "metadata": {},
   "source": [
    "Q6.  \n",
    "equal to operator is represented by == wheras assignment operator is represented by =  \n",
    "for eg:   \n",
    "a= 10 here we are assigning value 10 to a variable a  \n",
    "so whenever we want to assign any value to a variable we will use = operator   \n",
    "&    \n",
    "10==50 here we are comparing two values   \n",
    "whenever we want to compare two values or variable or any kind of comparison we will use =="
   ]
  },
  {
   "cell_type": "markdown",
   "id": "b8bf98de",
   "metadata": {},
   "source": [
    "Q7.  \n",
    "spam =0   \n",
    "first block  \n",
    "if spam ==10:  \n",
    "      print(\"eggs\")  \n",
    "second block  \n",
    "if spam > 5:  \n",
    "      print(\"bacon\")  \n",
    "third block  \n",
    "else :  \n",
    "      print('ham')  \n",
    "      print('spam')  \n",
    "      print('spam')  \n",
    "    "
   ]
  },
  {
   "cell_type": "code",
   "execution_count": 21,
   "id": "29ea74c1",
   "metadata": {},
   "outputs": [
    {
     "name": "stdout",
     "output_type": "stream",
     "text": [
      "1\n",
      "hello\n"
     ]
    }
   ],
   "source": [
    "#Q8\n",
    "spam = int(input())\n",
    "if spam == 1:\n",
    "    print(\"hello\")\n",
    "elif spam == 2 :\n",
    "    print(\"howdy\")\n",
    "else:\n",
    "    print(\"greetings!\")\n",
    "    "
   ]
  },
  {
   "cell_type": "markdown",
   "id": "c542da2f",
   "metadata": {},
   "source": [
    "Q9.  \n",
    "if my programmme is stuck in endless loop i will interrupt the kernel "
   ]
  },
  {
   "cell_type": "markdown",
   "id": "60a8c377",
   "metadata": {},
   "source": [
    "Q10.  \n",
    "break is used to exit the loop or stop loop and continue is used to give command to loop skipping the below programme instruction .  \n",
    "for eg :   \n",
    "1.say i have to print 10 number from 1 to 10  \n",
    "for i in range(1,11):  \n",
    "    print(i)  \n",
    "    if i== 5:  \n",
    "        break  \n",
    "here it will stop the loop when i==5 and will print number for 1 to 5 only  \n",
    "\n",
    "2.taking same example to print 10 number from 1 to 10  \n",
    "for i in range(11):  \n",
    "    i=i+1  \n",
    "    if i== 5:  \n",
    "        continue  \n",
    "    else:  \n",
    "        print(i)       \n",
    "here it will give command to loop and will skip the below programm when i==5 and will print number from 1 to 10 excluding  5\n",
    "\n"
   ]
  },
  {
   "cell_type": "markdown",
   "id": "6145417f",
   "metadata": {},
   "source": [
    "Q11.  \n",
    "range is a function which generate data upon given input   \n",
    "range(10) & range(0,10) will generate number from 0 to 9  \n",
    "range(0,10,1) will also generate number from 0 to 9 with skip value 1   \n",
    "there is no difference between three of them   \n",
    "for loop will iterate from 0 to 9 one by one in all  three cases  \n",
    "\n"
   ]
  },
  {
   "cell_type": "code",
   "execution_count": 22,
   "id": "97a90b94",
   "metadata": {},
   "outputs": [
    {
     "name": "stdout",
     "output_type": "stream",
     "text": [
      "1\n",
      "2\n",
      "3\n",
      "4\n",
      "5\n",
      "6\n",
      "7\n",
      "8\n",
      "9\n",
      "10\n"
     ]
    }
   ],
   "source": [
    "#Q12.\n",
    "for i in range(1,11):\n",
    "    print(i)\n",
    "    "
   ]
  },
  {
   "cell_type": "code",
   "execution_count": 23,
   "id": "0e4bab95",
   "metadata": {},
   "outputs": [
    {
     "name": "stdout",
     "output_type": "stream",
     "text": [
      "1\n",
      "2\n",
      "3\n",
      "4\n",
      "5\n",
      "6\n",
      "7\n",
      "8\n",
      "9\n",
      "10\n"
     ]
    }
   ],
   "source": [
    "#Q12.\n",
    "i=1\n",
    "while i <11:\n",
    "    print(i)\n",
    "    i=i+1"
   ]
  },
  {
   "cell_type": "markdown",
   "id": "33b5c00a",
   "metadata": {},
   "source": [
    "Q13.  \n",
    "import spam   \n",
    "spam.bacon()"
   ]
  },
  {
   "cell_type": "code",
   "execution_count": null,
   "id": "3bbcbdf2",
   "metadata": {},
   "outputs": [],
   "source": []
  },
  {
   "cell_type": "code",
   "execution_count": null,
   "id": "74f87f87",
   "metadata": {},
   "outputs": [],
   "source": []
  }
 ],
 "metadata": {
  "kernelspec": {
   "display_name": "Python 3 (ipykernel)",
   "language": "python",
   "name": "python3"
  },
  "language_info": {
   "codemirror_mode": {
    "name": "ipython",
    "version": 3
   },
   "file_extension": ".py",
   "mimetype": "text/x-python",
   "name": "python",
   "nbconvert_exporter": "python",
   "pygments_lexer": "ipython3",
   "version": "3.9.13"
  }
 },
 "nbformat": 4,
 "nbformat_minor": 5
}
