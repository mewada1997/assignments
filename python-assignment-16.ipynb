{
 "cells": [
  {
   "cell_type": "code",
   "execution_count": 30,
   "id": "7ae0042e",
   "metadata": {},
   "outputs": [
    {
     "name": "stdout",
     "output_type": "stream",
     "text": [
      "enter your birth year1997\n"
     ]
    },
    {
     "data": {
      "text/plain": [
       "[1997, 1998, 1999, 2000, 2001]"
      ]
     },
     "execution_count": 30,
     "metadata": {},
     "output_type": "execute_result"
    }
   ],
   "source": [
    "#Q1.\n",
    "def year_list():\n",
    "        try:\n",
    "            global l\n",
    "            l=[]\n",
    "            year= int(input(\"enter your birth year\"))\n",
    "            l.append(year)\n",
    "            for i in range(4):\n",
    "                year+=1\n",
    "                l.append(year)   \n",
    "            return l\n",
    "        except Exception as e:\n",
    "            print(e)  \n",
    "year_list()\n"
   ]
  },
  {
   "cell_type": "code",
   "execution_count": 32,
   "id": "a6960577",
   "metadata": {},
   "outputs": [
    {
     "data": {
      "text/plain": [
       "2000"
      ]
     },
     "execution_count": 32,
     "metadata": {},
     "output_type": "execute_result"
    }
   ],
   "source": [
    "#Q2. my third birthday\n",
    "l[3]"
   ]
  },
  {
   "cell_type": "code",
   "execution_count": 33,
   "id": "0b3192b8",
   "metadata": {},
   "outputs": [
    {
     "data": {
      "text/plain": [
       "2001"
      ]
     },
     "execution_count": 33,
     "metadata": {},
     "output_type": "execute_result"
    }
   ],
   "source": [
    "#Q3.\n",
    "l[-1]\n"
   ]
  },
  {
   "cell_type": "code",
   "execution_count": 21,
   "id": "535e9522",
   "metadata": {},
   "outputs": [],
   "source": [
    "#Q4.\n",
    "things=[\"mozarella\",\"cindrella\",\"salmonella\"]\n"
   ]
  },
  {
   "cell_type": "code",
   "execution_count": 23,
   "id": "f3ec211f",
   "metadata": {},
   "outputs": [
    {
     "data": {
      "text/plain": [
       "['Mozarella', 'Cindrella', 'Salmonella']"
      ]
     },
     "execution_count": 23,
     "metadata": {},
     "output_type": "execute_result"
    }
   ],
   "source": [
    "#Q5.\n",
    "def capitalize(a):\n",
    "    return a.capitalize()\n",
    "list(map(capitalize,things))\n"
   ]
  },
  {
   "cell_type": "code",
   "execution_count": 43,
   "id": "38052305",
   "metadata": {},
   "outputs": [],
   "source": [
    "#Q6\n",
    "surprise_list=[\"Grucho\",\"Chico\",\"Harpo\"]\n"
   ]
  },
  {
   "cell_type": "code",
   "execution_count": 49,
   "id": "562eb2cb",
   "metadata": {},
   "outputs": [
    {
     "data": {
      "text/plain": [
       "'Oprah'"
      ]
     },
     "execution_count": 49,
     "metadata": {},
     "output_type": "execute_result"
    }
   ],
   "source": [
    "#Q7.\n",
    "a=surprise_list[2]\n",
    "a=a[::-1]\n",
    "a.capitalize()\n"
   ]
  },
  {
   "cell_type": "code",
   "execution_count": 2,
   "id": "8417cbf4",
   "metadata": {},
   "outputs": [],
   "source": [
    "#Q8.\n",
    "e2f={\"dog\":\"chien\",\"cat\":\"chat\",\"walrus\":\"morse\"}"
   ]
  },
  {
   "cell_type": "code",
   "execution_count": 24,
   "id": "8a5a1c45",
   "metadata": {},
   "outputs": [
    {
     "name": "stdout",
     "output_type": "stream",
     "text": [
      "enter english word\n",
      "walrus\n",
      "morse\n"
     ]
    }
   ],
   "source": [
    "#Q9.\n",
    "word= input(\"enter english word\\n\")\n",
    "for i in e2f.keys():\n",
    "    if i == word:\n",
    "        print(e2f[word])"
   ]
  },
  {
   "cell_type": "code",
   "execution_count": 3,
   "id": "1122d57f",
   "metadata": {},
   "outputs": [
    {
     "name": "stdout",
     "output_type": "stream",
     "text": [
      "{'chien': 'dog', 'chat': 'cat', 'morse': 'walrus'}\n"
     ]
    }
   ],
   "source": [
    "#Q10.\n",
    "a=e2f.items()\n",
    "f2e={}\n",
    "for j in a:\n",
    "    f2e[j[1]] = j[0]\n",
    "print(f2e)\n",
    "    \n",
    "        "
   ]
  },
  {
   "cell_type": "code",
   "execution_count": 4,
   "id": "29c6fcbd",
   "metadata": {},
   "outputs": [
    {
     "name": "stdout",
     "output_type": "stream",
     "text": [
      "enter french word\n",
      "chien\n",
      "dog\n"
     ]
    }
   ],
   "source": [
    "#Q11.\n",
    "word= input(\"enter french word\\n\")\n",
    "for i in f2e.keys():\n",
    "    if i == word:\n",
    "        print(f2e[word])"
   ]
  },
  {
   "cell_type": "code",
   "execution_count": 5,
   "id": "49388b7f",
   "metadata": {},
   "outputs": [
    {
     "data": {
      "text/plain": [
       "dict_keys(['dog', 'cat', 'walrus'])"
      ]
     },
     "execution_count": 5,
     "metadata": {},
     "output_type": "execute_result"
    }
   ],
   "source": [
    "#Q12.\n",
    "e2f={\"dog\":\"chien\",\"cat\":\"chat\",\"walrus\":\"morse\"}\n",
    "e2f.keys()"
   ]
  },
  {
   "cell_type": "code",
   "execution_count": 6,
   "id": "e151f719",
   "metadata": {},
   "outputs": [],
   "source": [
    "#Q13.\n",
    "life={\"animals\":{\"cat\":[\"henry\",\"grumpy\",\"lucy\"],\"octopus\":{},\"emus\":{}},\"plant\":{},\"other\":{}}"
   ]
  },
  {
   "cell_type": "code",
   "execution_count": 7,
   "id": "56f611d1",
   "metadata": {},
   "outputs": [
    {
     "data": {
      "text/plain": [
       "dict_keys(['animals', 'plant', 'other'])"
      ]
     },
     "execution_count": 7,
     "metadata": {},
     "output_type": "execute_result"
    }
   ],
   "source": [
    "#Q14.\n",
    "life.keys()"
   ]
  },
  {
   "cell_type": "code",
   "execution_count": 9,
   "id": "22e60d5d",
   "metadata": {},
   "outputs": [
    {
     "data": {
      "text/plain": [
       "{'cat': ['henry', 'grumpy', 'lucy'], 'octopus': {}, 'emus': {}}"
      ]
     },
     "execution_count": 9,
     "metadata": {},
     "output_type": "execute_result"
    }
   ],
   "source": [
    "#Q15.\n",
    "life[\"animals\"]"
   ]
  },
  {
   "cell_type": "code",
   "execution_count": 10,
   "id": "241a9a27",
   "metadata": {},
   "outputs": [
    {
     "data": {
      "text/plain": [
       "['henry', 'grumpy', 'lucy']"
      ]
     },
     "execution_count": 10,
     "metadata": {},
     "output_type": "execute_result"
    }
   ],
   "source": [
    "#Q16.\n",
    "life[\"animals\"][\"cat\"]"
   ]
  },
  {
   "cell_type": "code",
   "execution_count": null,
   "id": "2a366ac2",
   "metadata": {},
   "outputs": [],
   "source": []
  }
 ],
 "metadata": {
  "kernelspec": {
   "display_name": "Python 3 (ipykernel)",
   "language": "python",
   "name": "python3"
  },
  "language_info": {
   "codemirror_mode": {
    "name": "ipython",
    "version": 3
   },
   "file_extension": ".py",
   "mimetype": "text/x-python",
   "name": "python",
   "nbconvert_exporter": "python",
   "pygments_lexer": "ipython3",
   "version": "3.9.13"
  }
 },
 "nbformat": 4,
 "nbformat_minor": 5
}
