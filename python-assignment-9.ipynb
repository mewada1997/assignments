{
 "cells": [
  {
   "cell_type": "markdown",
   "id": "0b83c9e4",
   "metadata": {},
   "source": [
    "Q1.  \n",
    "Relative path is the path of file from current working directory.  \n",
    "for eg:  \n",
    "my current working directory is desktop then,  \n",
    "movie\\file.mp4 is the relative path\n"
   ]
  },
  {
   "cell_type": "markdown",
   "id": "6e23dd13",
   "metadata": {},
   "source": [
    "Q2.  \n",
    "Absolute path is the path of file from the base or root directory  \n",
    "for eg:  \n",
    "c:\\user\\abc\\desktop\\movie\\file.mp4 is the absolute path"
   ]
  },
  {
   "cell_type": "code",
   "execution_count": 10,
   "id": "f1215feb",
   "metadata": {},
   "outputs": [
    {
     "data": {
      "text/plain": [
       "'C:\\\\Users\\\\abc\\\\Music'"
      ]
     },
     "execution_count": 10,
     "metadata": {},
     "output_type": "execute_result"
    }
   ],
   "source": [
    "#Q3.\n",
    "#os.getcwd() gives the current working directory & os.chdir() changes the working directory with the specified path\n",
    "import os\n",
    "os.getcwd()"
   ]
  },
  {
   "cell_type": "code",
   "execution_count": 17,
   "id": "d1d2eba2",
   "metadata": {},
   "outputs": [
    {
     "data": {
      "text/plain": [
       "'C:\\\\Users\\\\abc\\\\python assignment'"
      ]
     },
     "execution_count": 17,
     "metadata": {},
     "output_type": "execute_result"
    }
   ],
   "source": [
    "#Q3.\n",
    "os.chdir(\"C:\\\\Users\\\\abc\\\\python assignment\")\n",
    "os.getcwd()"
   ]
  },
  {
   "cell_type": "markdown",
   "id": "0bf5ac0d",
   "metadata": {},
   "source": [
    "Q4.  \n",
    ". folder indicate current folder  \n",
    ".. folder indicates parent folder\n"
   ]
  },
  {
   "cell_type": "markdown",
   "id": "a9a3ca81",
   "metadata": {},
   "source": [
    "Q5.  \n",
    "c:\\bacon\\eggs is the directory name and spam.txt is the base name  \n"
   ]
  },
  {
   "cell_type": "markdown",
   "id": "7fc23f63",
   "metadata": {},
   "source": [
    "Q6.  \n",
    "Three modes that can be passed as a argument are read ,write and append mode"
   ]
  },
  {
   "cell_type": "markdown",
   "id": "4f0a5788",
   "metadata": {},
   "source": [
    "Q7.  \n",
    "If an existing file is opened in write mode then it will overwrite the whole file with given data"
   ]
  },
  {
   "cell_type": "markdown",
   "id": "669e404f",
   "metadata": {},
   "source": [
    "Q8.  \n",
    "read() is used to read the entire data from a file whereas readline() is used to read the data line by line "
   ]
  },
  {
   "cell_type": "markdown",
   "id": "593e8773",
   "metadata": {},
   "source": [
    "Q9.  \n",
    "Shelve module is a library for data storage when databases are not required .  \n",
    "it stores value in the form of key value pair i.e it resembles an dictionary like object  \n",
    "it creates an dir file in current directory"
   ]
  },
  {
   "cell_type": "code",
   "execution_count": null,
   "id": "0d3b38df",
   "metadata": {},
   "outputs": [],
   "source": []
  },
  {
   "cell_type": "code",
   "execution_count": null,
   "id": "75313c4b",
   "metadata": {},
   "outputs": [],
   "source": []
  }
 ],
 "metadata": {
  "kernelspec": {
   "display_name": "Python 3 (ipykernel)",
   "language": "python",
   "name": "python3"
  },
  "language_info": {
   "codemirror_mode": {
    "name": "ipython",
    "version": 3
   },
   "file_extension": ".py",
   "mimetype": "text/x-python",
   "name": "python",
   "nbconvert_exporter": "python",
   "pygments_lexer": "ipython3",
   "version": "3.9.13"
  }
 },
 "nbformat": 4,
 "nbformat_minor": 5
}
