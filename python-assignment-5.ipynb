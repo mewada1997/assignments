{
 "cells": [
  {
   "cell_type": "code",
   "execution_count": 3,
   "id": "93564a4b",
   "metadata": {},
   "outputs": [
    {
     "name": "stdout",
     "output_type": "stream",
     "text": [
      "{}\n",
      "<class 'dict'>\n"
     ]
    }
   ],
   "source": [
    "#Q1.\n",
    "#empty dictionary code \n",
    "dict1 = {}\n",
    "print(dict1)\n",
    "print(type(dict1))"
   ]
  },
  {
   "cell_type": "code",
   "execution_count": 6,
   "id": "57ce1b08",
   "metadata": {},
   "outputs": [
    {
     "name": "stdout",
     "output_type": "stream",
     "text": [
      "dict_values([42])\n"
     ]
    }
   ],
   "source": [
    "#Q2.\n",
    "#Dictionary with key foo and value 42\n",
    "d={\"foo\":42}\n",
    "print(d.values())\n"
   ]
  },
  {
   "cell_type": "markdown",
   "id": "6463b022",
   "metadata": {},
   "source": [
    "Q3.   \n",
    "List contain different type of data in it like a single element which can be accessed using index position .it is denoted by []  \n",
    "\n",
    "wheras dictionary also contain different type of data init but in the form of key-value pair which can be accessed using key .it is denoted by {\"key\":\"value\"}"
   ]
  },
  {
   "cell_type": "code",
   "execution_count": 10,
   "id": "58b7e0b2",
   "metadata": {},
   "outputs": [
    {
     "ename": "KeyError",
     "evalue": "'foo'",
     "output_type": "error",
     "traceback": [
      "\u001b[1;31m---------------------------------------------------------------------------\u001b[0m",
      "\u001b[1;31mKeyError\u001b[0m                                  Traceback (most recent call last)",
      "\u001b[1;32m~\\AppData\\Local\\Temp\\ipykernel_11312\\97518732.py\u001b[0m in \u001b[0;36m<module>\u001b[1;34m\u001b[0m\n\u001b[0;32m      2\u001b[0m \u001b[1;31m#it will throw an error as there is no such key called \"foo\"\u001b[0m\u001b[1;33m\u001b[0m\u001b[1;33m\u001b[0m\u001b[0m\n\u001b[0;32m      3\u001b[0m \u001b[0mspam\u001b[0m\u001b[1;33m=\u001b[0m\u001b[1;33m{\u001b[0m\u001b[1;34m\"bar\"\u001b[0m\u001b[1;33m:\u001b[0m\u001b[1;36m100\u001b[0m\u001b[1;33m}\u001b[0m\u001b[1;33m\u001b[0m\u001b[1;33m\u001b[0m\u001b[0m\n\u001b[1;32m----> 4\u001b[1;33m \u001b[0mspam\u001b[0m\u001b[1;33m[\u001b[0m\u001b[1;34m\"foo\"\u001b[0m\u001b[1;33m]\u001b[0m\u001b[1;33m\u001b[0m\u001b[1;33m\u001b[0m\u001b[0m\n\u001b[0m",
      "\u001b[1;31mKeyError\u001b[0m: 'foo'"
     ]
    }
   ],
   "source": [
    "#Q4.\n",
    "#it will throw an error as there is no such key called \"foo\"\n",
    "spam={\"bar\":100}\n",
    "spam[\"foo\"]\n"
   ]
  },
  {
   "cell_type": "markdown",
   "id": "55aa8bf6",
   "metadata": {},
   "source": [
    "Q5.  \n",
    "A dictionary is stored in spam variable  \n",
    "expression \"cat\" in spam and expression \"cat\" in spam.keys()are same both will check and return true if cat is present in any of the key else return false\n"
   ]
  },
  {
   "cell_type": "markdown",
   "id": "a098e899",
   "metadata": {},
   "source": [
    "Q6.  \n",
    "A dictionary is stored in spam variable\n",
    "expression \"cat\" in spam will check and return true if cat is present in any of the key else return false\n",
    "similarly expression \"cat\" in spam.values will check and return true if cat is present in any of the value in dictionary else return false\n"
   ]
  },
  {
   "cell_type": "code",
   "execution_count": 15,
   "id": "7c534b02",
   "metadata": {},
   "outputs": [
    {
     "name": "stdout",
     "output_type": "stream",
     "text": [
      "{'colour': 'black'}\n"
     ]
    }
   ],
   "source": [
    "#Q7.\n",
    "spam= {}\n",
    "if \"colour\" not in spam:\n",
    "    spam[\"colour\"] = \"black\"\n",
    "    print(spam)"
   ]
  },
  {
   "cell_type": "code",
   "execution_count": null,
   "id": "084f949c",
   "metadata": {},
   "outputs": [],
   "source": []
  },
  {
   "cell_type": "code",
   "execution_count": 13,
   "id": "7744980f",
   "metadata": {},
   "outputs": [
    {
     "name": "stdout",
     "output_type": "stream",
     "text": [
      "{\n",
      " \"name\": \"ram\",\n",
      " \"age\": 18,\n",
      " \"rollno\": 4,\n",
      " \"sub\": [\n",
      "  \"eng\",\n",
      "  \"maths\"\n",
      " ]\n",
      "}\n"
     ]
    }
   ],
   "source": [
    "#Q8.\n",
    "# we can pretty print dictionary value using json module and dumps function \n",
    "#we can also use pprint.pprint()\n",
    "import json\n",
    "a= {\"name\":\"ram\",\"age\":18,\"rollno\":4,\"sub\":[\"eng\",\"maths\"]}\n",
    "b=json.dumps(a,indent=1)\n",
    "print(b)"
   ]
  },
  {
   "cell_type": "code",
   "execution_count": null,
   "id": "f46b8943",
   "metadata": {},
   "outputs": [],
   "source": []
  }
 ],
 "metadata": {
  "kernelspec": {
   "display_name": "Python 3 (ipykernel)",
   "language": "python",
   "name": "python3"
  },
  "language_info": {
   "codemirror_mode": {
    "name": "ipython",
    "version": 3
   },
   "file_extension": ".py",
   "mimetype": "text/x-python",
   "name": "python",
   "nbconvert_exporter": "python",
   "pygments_lexer": "ipython3",
   "version": "3.9.13"
  }
 },
 "nbformat": 4,
 "nbformat_minor": 5
}
