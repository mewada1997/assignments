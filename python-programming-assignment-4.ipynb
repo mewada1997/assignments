{
 "cells": [
  {
   "cell_type": "code",
   "execution_count": null,
   "id": "69afb4d3",
   "metadata": {},
   "outputs": [],
   "source": [
    "#Q1\n",
    "def factorial(n):\n",
    "    fact=1\n",
    "    for i in range(1,n+1):\n",
    "        fact = fact*i\n",
    "    return fact\n",
    "factorial(20)\n",
    "    "
   ]
  },
  {
   "cell_type": "code",
   "execution_count": null,
   "id": "162a1a8c",
   "metadata": {},
   "outputs": [],
   "source": [
    "#Q2\n",
    "def table(n):\n",
    "    for i in range(1,11):\n",
    "        j=i*n\n",
    "        print(\"{} * {} = {}\".format(n,i,j))\n",
    "table(7)"
   ]
  },
  {
   "cell_type": "code",
   "execution_count": 10,
   "id": "e02ece16",
   "metadata": {},
   "outputs": [
    {
     "name": "stdout",
     "output_type": "stream",
     "text": [
      "0\n",
      "1\n",
      "1\n",
      "2\n",
      "3\n",
      "5\n",
      "8\n",
      "13\n",
      "21\n",
      "34\n"
     ]
    }
   ],
   "source": [
    "#Q3\n",
    "def fibonnaci(n):    \n",
    "    a=0\n",
    "    b=1   \n",
    "    for i in range(n):      \n",
    "        print(a)\n",
    "        n= a+b\n",
    "        a=b\n",
    "        b= n \n",
    "fibonnaci(10)\n"
   ]
  },
  {
   "cell_type": "code",
   "execution_count": null,
   "id": "ed874b89",
   "metadata": {},
   "outputs": [],
   "source": [
    "#Q4\n",
    "def check_armstrong(n):\n",
    "    a=str(n)\n",
    "    sum = 0\n",
    "    for i in a:\n",
    "        i = int(i)\n",
    "        sum = sum + (i**3)\n",
    "    if sum == n:\n",
    "        #print(f\"{a} is armstrong number\")\n",
    "        return n\n",
    "    else:\n",
    "        pass\n",
    "       #print(f\"{a} is not an armstron number\")\n",
    "check_armstrong(370)\n",
    "        "
   ]
  },
  {
   "cell_type": "code",
   "execution_count": null,
   "id": "2663c312",
   "metadata": {},
   "outputs": [],
   "source": [
    "#Q5\n",
    "def armstrong(m,n):\n",
    "    for i in range(m,n):\n",
    "        if check_armstrong(i):\n",
    "            yield i\n",
    "for i in armstrong(1,1000):\n",
    "    print(i)"
   ]
  },
  {
   "cell_type": "code",
   "execution_count": null,
   "id": "95f8fe52",
   "metadata": {},
   "outputs": [],
   "source": [
    "#Q6\n",
    "def sum(n):\n",
    "    sum=0\n",
    "    for i in range(n+1):\n",
    "        sum = sum+i\n",
    "    print(sum)\n",
    "sum(20)\n"
   ]
  },
  {
   "cell_type": "code",
   "execution_count": null,
   "id": "bd413c96",
   "metadata": {},
   "outputs": [],
   "source": []
  },
  {
   "cell_type": "code",
   "execution_count": null,
   "id": "b6abe3e4",
   "metadata": {},
   "outputs": [],
   "source": []
  }
 ],
 "metadata": {
  "kernelspec": {
   "display_name": "Python 3 (ipykernel)",
   "language": "python",
   "name": "python3"
  },
  "language_info": {
   "codemirror_mode": {
    "name": "ipython",
    "version": 3
   },
   "file_extension": ".py",
   "mimetype": "text/x-python",
   "name": "python",
   "nbconvert_exporter": "python",
   "pygments_lexer": "ipython3",
   "version": "3.9.13"
  }
 },
 "nbformat": 4,
 "nbformat_minor": 5
}
