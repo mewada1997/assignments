{
 "cells": [
  {
   "cell_type": "code",
   "execution_count": 1,
   "id": "d3e70129",
   "metadata": {},
   "outputs": [
    {
     "name": "stdout",
     "output_type": "stream",
     "text": [
      "enter a value in km \n",
      "2\n"
     ]
    },
    {
     "data": {
      "text/plain": [
       "'2 km = 1.24274238 miles '"
      ]
     },
     "execution_count": 1,
     "metadata": {},
     "output_type": "execute_result"
    }
   ],
   "source": [
    "#Q1\n",
    "try:\n",
    "    def converter(a=int(input(\"enter a value in km \\n\"))) :\n",
    "        miles = a*0.62137119\n",
    "        return (f\"{a} km = {miles} miles \")\n",
    "except Exception as e:\n",
    "     print(e)\n",
    "converter()"
   ]
  },
  {
   "cell_type": "code",
   "execution_count": 6,
   "id": "7a0af2e9",
   "metadata": {},
   "outputs": [
    {
     "name": "stdout",
     "output_type": "stream",
     "text": [
      "enter a value in celsius \n",
      "6\n"
     ]
    },
    {
     "data": {
      "text/plain": [
       "'6 celsius = 42.8 farhenite '"
      ]
     },
     "execution_count": 6,
     "metadata": {},
     "output_type": "execute_result"
    }
   ],
   "source": [
    "#Q2\n",
    "try:\n",
    "    def converter(a=int(input(\"enter a value in celsius \\n\"))) :        \n",
    "        farh = (9/5 * a) + 32\n",
    "        return (f\"{a} celsius = {farh} farhenite \")\n",
    "except Exception as e:\n",
    "     print(e)\n",
    "converter()"
   ]
  },
  {
   "cell_type": "code",
   "execution_count": 15,
   "id": "6180c4ed",
   "metadata": {},
   "outputs": [
    {
     "name": "stdout",
     "output_type": "stream",
     "text": [
      "enter year2022\n",
      "                                  2022\n",
      "\n",
      "      January                   February                   March\n",
      "Mo Tu We Th Fr Sa Su      Mo Tu We Th Fr Sa Su      Mo Tu We Th Fr Sa Su\n",
      "                1  2          1  2  3  4  5  6          1  2  3  4  5  6\n",
      " 3  4  5  6  7  8  9       7  8  9 10 11 12 13       7  8  9 10 11 12 13\n",
      "10 11 12 13 14 15 16      14 15 16 17 18 19 20      14 15 16 17 18 19 20\n",
      "17 18 19 20 21 22 23      21 22 23 24 25 26 27      21 22 23 24 25 26 27\n",
      "24 25 26 27 28 29 30      28                        28 29 30 31\n",
      "31\n",
      "\n",
      "       April                      May                       June\n",
      "Mo Tu We Th Fr Sa Su      Mo Tu We Th Fr Sa Su      Mo Tu We Th Fr Sa Su\n",
      "             1  2  3                         1             1  2  3  4  5\n",
      " 4  5  6  7  8  9 10       2  3  4  5  6  7  8       6  7  8  9 10 11 12\n",
      "11 12 13 14 15 16 17       9 10 11 12 13 14 15      13 14 15 16 17 18 19\n",
      "18 19 20 21 22 23 24      16 17 18 19 20 21 22      20 21 22 23 24 25 26\n",
      "25 26 27 28 29 30         23 24 25 26 27 28 29      27 28 29 30\n",
      "                          30 31\n",
      "\n",
      "        July                     August                  September\n",
      "Mo Tu We Th Fr Sa Su      Mo Tu We Th Fr Sa Su      Mo Tu We Th Fr Sa Su\n",
      "             1  2  3       1  2  3  4  5  6  7                1  2  3  4\n",
      " 4  5  6  7  8  9 10       8  9 10 11 12 13 14       5  6  7  8  9 10 11\n",
      "11 12 13 14 15 16 17      15 16 17 18 19 20 21      12 13 14 15 16 17 18\n",
      "18 19 20 21 22 23 24      22 23 24 25 26 27 28      19 20 21 22 23 24 25\n",
      "25 26 27 28 29 30 31      29 30 31                  26 27 28 29 30\n",
      "\n",
      "      October                   November                  December\n",
      "Mo Tu We Th Fr Sa Su      Mo Tu We Th Fr Sa Su      Mo Tu We Th Fr Sa Su\n",
      "                1  2          1  2  3  4  5  6                1  2  3  4\n",
      " 3  4  5  6  7  8  9       7  8  9 10 11 12 13       5  6  7  8  9 10 11\n",
      "10 11 12 13 14 15 16      14 15 16 17 18 19 20      12 13 14 15 16 17 18\n",
      "17 18 19 20 21 22 23      21 22 23 24 25 26 27      19 20 21 22 23 24 25\n",
      "24 25 26 27 28 29 30      28 29 30                  26 27 28 29 30 31\n",
      "31\n",
      "\n"
     ]
    }
   ],
   "source": [
    "#Q3\n",
    "import calendar\n",
    "def showcalendar():\n",
    "    yr=int(input(\"enter year\"))\n",
    "    print(calendar.calendar(yr))\n",
    "showcalendar()"
   ]
  },
  {
   "cell_type": "code",
   "execution_count": 10,
   "id": "f4ed881c",
   "metadata": {},
   "outputs": [],
   "source": [
    "#Q4\n",
    "try:\n",
    "    \n",
    "    import math\n",
    "    def quad_eqn(a,b,c):\n",
    "        d= (b**2)-(4*a*c)                       \n",
    "        if d >0:\n",
    "            sqrt =math.sqrt(d)\n",
    "            x1= (-b + sqrt)/2*a\n",
    "            x2 = (-b  - sqrt)/2*a\n",
    "            print(\"x1={} and x2={}\".format(x1,x2))\n",
    "            \n",
    "        if d==0 :\n",
    "            x1= -b/2*a\n",
    "            x2 = x1\n",
    "            print(f\"x1={x1} and x2 = {x2}\") \n",
    "           \n",
    "        if d< 0 :\n",
    "            a=-(d)\n",
    "            imag_rt =math.sqrt(a)\n",
    "            x1= -b/2*a\n",
    "            x2 =x1\n",
    "            x3= complex(real= x1,imag=imag_rt)\n",
    "            x4= complex(real= x1,imag= -imag_rt)           \n",
    "            print(f\"x1={x3} and x2={x4}\")\n",
    "except Exception as e:\n",
    "     print()             "
   ]
  },
  {
   "cell_type": "code",
   "execution_count": 9,
   "id": "82c958c0",
   "metadata": {},
   "outputs": [
    {
     "name": "stdout",
     "output_type": "stream",
     "text": [
      "x1=(-4+2j) and x2=(-4-2j)\n"
     ]
    }
   ],
   "source": [
    "quad_eqn(2,2,1)"
   ]
  },
  {
   "cell_type": "code",
   "execution_count": 12,
   "id": "b2fe0115",
   "metadata": {},
   "outputs": [
    {
     "name": "stdout",
     "output_type": "stream",
     "text": [
      "before swapping a=1 and b=2\n",
      "after swapping a=2 and b=1\n"
     ]
    }
   ],
   "source": [
    " #Q5\n",
    "def swap(a,b):\n",
    "    print(f\"before swapping a={a} and b={b}\")\n",
    "    a= a+b\n",
    "    b= a-b\n",
    "    a= a-b\n",
    "    print(f\"after swapping a={a} and b={b}\")\n",
    "swap(1,2)"
   ]
  },
  {
   "cell_type": "code",
   "execution_count": null,
   "id": "70b3c4d3",
   "metadata": {},
   "outputs": [],
   "source": []
  },
  {
   "cell_type": "code",
   "execution_count": 23,
   "id": "c036542b",
   "metadata": {},
   "outputs": [
    {
     "data": {
      "text/plain": [
       "-8"
      ]
     },
     "execution_count": 23,
     "metadata": {},
     "output_type": "execute_result"
    }
   ],
   "source": []
  },
  {
   "cell_type": "code",
   "execution_count": 24,
   "id": "3a3124f4",
   "metadata": {},
   "outputs": [],
   "source": []
  },
  {
   "cell_type": "code",
   "execution_count": 25,
   "id": "4fde5261",
   "metadata": {},
   "outputs": [
    {
     "data": {
      "text/plain": [
       "-8"
      ]
     },
     "execution_count": 25,
     "metadata": {},
     "output_type": "execute_result"
    }
   ],
   "source": []
  },
  {
   "cell_type": "code",
   "execution_count": 6,
   "id": "e5e82452",
   "metadata": {},
   "outputs": [],
   "source": []
  },
  {
   "cell_type": "code",
   "execution_count": 7,
   "id": "88e4dd1b",
   "metadata": {},
   "outputs": [
    {
     "data": {
      "text/plain": [
       "(1-3j)"
      ]
     },
     "execution_count": 7,
     "metadata": {},
     "output_type": "execute_result"
    }
   ],
   "source": []
  },
  {
   "cell_type": "code",
   "execution_count": null,
   "id": "b4ab8b45",
   "metadata": {},
   "outputs": [],
   "source": []
  },
  {
   "cell_type": "code",
   "execution_count": null,
   "id": "b81c1501",
   "metadata": {},
   "outputs": [],
   "source": []
  }
 ],
 "metadata": {
  "kernelspec": {
   "display_name": "Python 3 (ipykernel)",
   "language": "python",
   "name": "python3"
  },
  "language_info": {
   "codemirror_mode": {
    "name": "ipython",
    "version": 3
   },
   "file_extension": ".py",
   "mimetype": "text/x-python",
   "name": "python",
   "nbconvert_exporter": "python",
   "pygments_lexer": "ipython3",
   "version": "3.9.13"
  }
 },
 "nbformat": 4,
 "nbformat_minor": 5
}
