{
 "cells": [
  {
   "cell_type": "markdown",
   "id": "13bad497",
   "metadata": {},
   "source": [
    "Q1.  \n",
    "let's say i have  writeen a code in the programm and used it and after some time there is need for the same code to be used and may be multiple time there is need for the same code to be used ,this will lead to repitive writing of a code.  \n",
    "to avoid this function are used  \n",
    "function basically contain a set of instruction or code which whenever required can be used by calling the function which avoid repitive writing of a code and reduce complexity of programm.  "
   ]
  },
  {
   "cell_type": "markdown",
   "id": "d556428f",
   "metadata": {},
   "source": [
    "Q2.  \n",
    "A code in a function run when it is called "
   ]
  },
  {
   "cell_type": "markdown",
   "id": "8c614379",
   "metadata": {},
   "source": [
    "Q3.  \n",
    "function is created by using def statement "
   ]
  },
  {
   "cell_type": "markdown",
   "id": "1ae2c0f0",
   "metadata": {},
   "source": [
    "Q4.  \n",
    "Function basically contain code or instruction which has to be executed and function call is execution of function whenever required "
   ]
  },
  {
   "cell_type": "markdown",
   "id": "eb005715",
   "metadata": {},
   "source": [
    "Q5.  \n",
    "there is one global scope for a python variable throughout the programm  \n",
    "local scope is created at the time of function call so we can have multiple local scope  \n"
   ]
  },
  {
   "cell_type": "markdown",
   "id": "de667107",
   "metadata": {},
   "source": [
    "Q6.  \n",
    "variable within a function have local scope i.e when function call return all the variable are erased out of memory  \n",
    "these variable are recognised within function only"
   ]
  },
  {
   "cell_type": "markdown",
   "id": "36a90426",
   "metadata": {},
   "source": [
    "Q7.  \n",
    "return value are used within a function to interpret final outcome of function and close the function  \n",
    "return value return's final outcome as it is unlike print statement which returns none type  \n",
    "it is not possible to use return out of function   \n",
    "we can use it with a expression ,if expression is within a function"
   ]
  },
  {
   "cell_type": "markdown",
   "id": "4ff12bf2",
   "metadata": {},
   "source": [
    "Q8.  \n",
    "if a function does not have return statement it will not return anything i.e no output\n"
   ]
  },
  {
   "cell_type": "markdown",
   "id": "1746b03c",
   "metadata": {},
   "source": [
    "Q9.  \n",
    "we can refer a function variable to a global variable by using keyword global  \n",
    "for eg:  \n",
    "def sum(a):  \n",
    "    global b  \n",
    "    b=100  \n",
    "    return a +b  \n",
    "now this variable b can be accessed throughout the programme"
   ]
  },
  {
   "cell_type": "markdown",
   "id": "6c7d363b",
   "metadata": {},
   "source": [
    "Q10.  \n",
    "data type of None is None. None itself is a data type"
   ]
  },
  {
   "cell_type": "markdown",
   "id": "c80115e9",
   "metadata": {},
   "source": [
    "Q11.  \n",
    "import areallyourpetsnamederic will import module areallyourpetsnamederic if present or else it will show error\n"
   ]
  },
  {
   "cell_type": "markdown",
   "id": "5b3eee0a",
   "metadata": {},
   "source": [
    "Q12.  \n",
    "after importing spam i will call bacon() as a function   \n",
    "for eg : spam.bacon()    \n",
    "because it is written in spam module as a function"
   ]
  },
  {
   "cell_type": "markdown",
   "id": "56ec8980",
   "metadata": {},
   "source": [
    "Q13.  \n",
    "we can use try and except to save our programme from crashing if it encounters an error"
   ]
  },
  {
   "cell_type": "markdown",
   "id": "7f384dfb",
   "metadata": {},
   "source": [
    "Q14.  \n",
    "if a programme is written under try block and if an error encounters it will throw the command to except block and will skip below programm written under try block .  \n",
    "except block work like a else statement in if else , if an error is encountered it will be initiated and will perform the instruction written under it.  \n",
    "in this way error is handled and entire programm is saved from crashing "
   ]
  },
  {
   "cell_type": "code",
   "execution_count": null,
   "id": "c92a7b75",
   "metadata": {},
   "outputs": [],
   "source": []
  },
  {
   "cell_type": "code",
   "execution_count": null,
   "id": "27689c69",
   "metadata": {},
   "outputs": [],
   "source": []
  },
  {
   "cell_type": "code",
   "execution_count": null,
   "id": "5012cb18",
   "metadata": {},
   "outputs": [],
   "source": []
  },
  {
   "cell_type": "code",
   "execution_count": null,
   "id": "2b323a7c",
   "metadata": {},
   "outputs": [],
   "source": []
  },
  {
   "cell_type": "code",
   "execution_count": null,
   "id": "2d973821",
   "metadata": {},
   "outputs": [],
   "source": []
  }
 ],
 "metadata": {
  "kernelspec": {
   "display_name": "Python 3 (ipykernel)",
   "language": "python",
   "name": "python3"
  },
  "language_info": {
   "codemirror_mode": {
    "name": "ipython",
    "version": 3
   },
   "file_extension": ".py",
   "mimetype": "text/x-python",
   "name": "python",
   "nbconvert_exporter": "python",
   "pygments_lexer": "ipython3",
   "version": "3.9.13"
  }
 },
 "nbformat": 4,
 "nbformat_minor": 5
}
