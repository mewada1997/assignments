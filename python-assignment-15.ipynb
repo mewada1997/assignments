{
 "cells": [
  {
   "cell_type": "code",
   "execution_count": 1,
   "id": "792a6f1e",
   "metadata": {},
   "outputs": [
    {
     "name": "stdout",
     "output_type": "stream",
     "text": [
      "3600\n"
     ]
    }
   ],
   "source": [
    "#Q1\n",
    "sec_per_hr =60*60\n",
    "print(sec_per_hr)"
   ]
  },
  {
   "cell_type": "code",
   "execution_count": 2,
   "id": "96eeaba7",
   "metadata": {},
   "outputs": [
    {
     "name": "stdout",
     "output_type": "stream",
     "text": [
      "3600\n"
     ]
    }
   ],
   "source": [
    "#Q2\n",
    "sec_per_hr =60*60\n",
    "print(sec_per_hr)"
   ]
  },
  {
   "cell_type": "code",
   "execution_count": 3,
   "id": "e5869d56",
   "metadata": {},
   "outputs": [
    {
     "name": "stdout",
     "output_type": "stream",
     "text": [
      "86400\n"
     ]
    }
   ],
   "source": [
    "#Q3\n",
    "min_per_hr = 60\n",
    "sec_per_day = 24*sec_per_hr\n",
    "print(sec_per_day)\n"
   ]
  },
  {
   "cell_type": "code",
   "execution_count": 4,
   "id": "2aae6def",
   "metadata": {},
   "outputs": [
    {
     "name": "stdout",
     "output_type": "stream",
     "text": [
      "86400\n"
     ]
    }
   ],
   "source": [
    "#Q5\n",
    "sec_per_day = 24*sec_per_hr\n",
    "print(sec_per_day)\n"
   ]
  },
  {
   "cell_type": "code",
   "execution_count": 5,
   "id": "d82aa067",
   "metadata": {},
   "outputs": [
    {
     "data": {
      "text/plain": [
       "24.0"
      ]
     },
     "execution_count": 5,
     "metadata": {},
     "output_type": "execute_result"
    }
   ],
   "source": [
    "#Q6\n",
    "a= sec_per_day/sec_per_hr\n",
    "a"
   ]
  },
  {
   "cell_type": "code",
   "execution_count": 6,
   "id": "d400e9bf",
   "metadata": {},
   "outputs": [
    {
     "data": {
      "text/plain": [
       "24"
      ]
     },
     "execution_count": 6,
     "metadata": {},
     "output_type": "execute_result"
    }
   ],
   "source": [
    "#Q7\n",
    "a= sec_per_day//sec_per_hr\n",
    "a"
   ]
  },
  {
   "cell_type": "code",
   "execution_count": 22,
   "id": "91da6510",
   "metadata": {},
   "outputs": [],
   "source": [
    "#Q8\n",
    "def gen_prime(n):\n",
    "    for i in range(1,n) :\n",
    "        if i==1 :\n",
    "            yield i\n",
    "        else :\n",
    "            for j in range(2,i):\n",
    "                if i%j == 0:\n",
    "                    break\n",
    "            else :\n",
    "                yield i"
   ]
  },
  {
   "cell_type": "code",
   "execution_count": 23,
   "id": "aad51777",
   "metadata": {},
   "outputs": [
    {
     "data": {
      "text/plain": [
       "[1, 2, 3, 5, 7, 11, 13, 17, 19, 23, 29, 31, 37, 41, 43, 47]"
      ]
     },
     "execution_count": 23,
     "metadata": {},
     "output_type": "execute_result"
    }
   ],
   "source": [
    "list(gen_prime(50))\n"
   ]
  },
  {
   "cell_type": "code",
   "execution_count": 20,
   "id": "c1f3abb5",
   "metadata": {},
   "outputs": [],
   "source": []
  },
  {
   "cell_type": "code",
   "execution_count": null,
   "id": "3f26573b",
   "metadata": {},
   "outputs": [],
   "source": []
  },
  {
   "cell_type": "code",
   "execution_count": null,
   "id": "0c73e67f",
   "metadata": {},
   "outputs": [],
   "source": []
  },
  {
   "cell_type": "code",
   "execution_count": null,
   "id": "b906e4d2",
   "metadata": {},
   "outputs": [],
   "source": []
  }
 ],
 "metadata": {
  "kernelspec": {
   "display_name": "Python 3 (ipykernel)",
   "language": "python",
   "name": "python3"
  },
  "language_info": {
   "codemirror_mode": {
    "name": "ipython",
    "version": 3
   },
   "file_extension": ".py",
   "mimetype": "text/x-python",
   "name": "python",
   "nbconvert_exporter": "python",
   "pygments_lexer": "ipython3",
   "version": "3.9.13"
  }
 },
 "nbformat": 4,
 "nbformat_minor": 5
}
